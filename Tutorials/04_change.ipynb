{
 "cells": [
  {
   "cell_type": "markdown",
   "metadata": {},
   "source": [
    "# Calculating change over time\n"
   ]
  },
  {
   "cell_type": "markdown",
   "metadata": {},
   "source": [
    "## imports\n"
   ]
  },
  {
   "cell_type": "code",
   "execution_count": 1,
   "metadata": {},
   "outputs": [],
   "source": [
    "import leafmap\n",
    "import leafmap.colormaps as cm\n",
    "import requests\n",
    "import rasterio as rio\n",
    "from rasterio.merge import merge\n",
    "import glob\n",
    "from rasterio.plot import reshape_as_image"
   ]
  },
  {
   "cell_type": "markdown",
   "metadata": {},
   "source": [
    "## searching for data\n"
   ]
  },
  {
   "cell_type": "code",
   "execution_count": 2,
   "metadata": {},
   "outputs": [],
   "source": [
    "url = \"https://earth-search.aws.element84.com/v1/\"\n",
    "collection = \"sentinel-2-l2a\"\n",
    "time_range = \"2023-08-01/2023-08-31\""
   ]
  },
  {
   "cell_type": "code",
   "execution_count": 3,
   "metadata": {},
   "outputs": [],
   "source": [
    "# bbox for dallas metro\n",
    "bbox = [\n",
    "    -97.06213756027009,\n",
    "    32.97324551867027,\n",
    "    -96.46807822577594,\n",
    "    33.3578329610085,\n",
    "]"
   ]
  },
  {
   "cell_type": "code",
   "execution_count": 4,
   "metadata": {},
   "outputs": [],
   "source": [
    "search_gdf = leafmap.stac_search(\n",
    "    url=url,\n",
    "    max_items=10,\n",
    "    collections=[collection],\n",
    "    bbox=bbox,\n",
    "    datetime=time_range,\n",
    "    query={\"eo:cloud_cover\": {\"lt\": 20}},\n",
    "    sortby=[{\"field\": \"properties.eo:cloud_cover\", \"direction\": \"asc\"}],\n",
    "    get_gdf=True,\n",
    ")"
   ]
  },
  {
   "cell_type": "code",
   "execution_count": 5,
   "metadata": {},
   "outputs": [
    {
     "data": {
      "text/plain": [
       "Index(['geometry', 'created', 'platform', 'constellation', 'instruments',\n",
       "       'eo:cloud_cover', 'proj:epsg', 'mgrs:utm_zone', 'mgrs:latitude_band',\n",
       "       'mgrs:grid_square', 'grid:code', 'view:sun_azimuth',\n",
       "       'view:sun_elevation', 's2:degraded_msi_data_percentage',\n",
       "       's2:nodata_pixel_percentage', 's2:saturated_defective_pixel_percentage',\n",
       "       's2:dark_features_percentage', 's2:cloud_shadow_percentage',\n",
       "       's2:vegetation_percentage', 's2:not_vegetated_percentage',\n",
       "       's2:water_percentage', 's2:unclassified_percentage',\n",
       "       's2:medium_proba_clouds_percentage', 's2:high_proba_clouds_percentage',\n",
       "       's2:thin_cirrus_percentage', 's2:snow_ice_percentage',\n",
       "       's2:product_type', 's2:processing_baseline', 's2:product_uri',\n",
       "       's2:generation_time', 's2:datatake_id', 's2:datatake_type',\n",
       "       's2:datastrip_id', 's2:granule_id', 's2:reflectance_conversion_factor',\n",
       "       'datetime', 's2:sequence', 'earthsearch:s3_path',\n",
       "       'earthsearch:payload_id', 'earthsearch:boa_offset_applied',\n",
       "       'processing:software', 'updated'],\n",
       "      dtype='object')"
      ]
     },
     "execution_count": 5,
     "metadata": {},
     "output_type": "execute_result"
    }
   ],
   "source": [
    "search_gdf.columns"
   ]
  },
  {
   "cell_type": "markdown",
   "metadata": {},
   "source": [
    "## exploring and filtering search results\n"
   ]
  },
  {
   "cell_type": "code",
   "execution_count": 6,
   "metadata": {},
   "outputs": [
    {
     "data": {
      "text/plain": [
       "<Axes: >"
      ]
     },
     "execution_count": 6,
     "metadata": {},
     "output_type": "execute_result"
    },
    {
     "data": {
      "image/png": "[encoded data removed]",
      "text/plain": [
       "<Figure size 640x480 with 1 Axes>"
      ]
     },
     "metadata": {},
     "output_type": "display_data"
    }
   ],
   "source": [
    "search_gdf.plot(\"mgrs:grid_square\", alpha=0.25)"
   ]
  },
  {
   "cell_type": "code",
   "execution_count": 7,
   "metadata": {},
   "outputs": [
    {
     "data": {
      "text/plain": [
       "s2:granule_id\n",
       "S2B_OPER_MSI_L2A_TL_2BPS_20230819T223356_A033700_T14SQB_N05.09    1\n",
       "S2A_OPER_MSI_L2A_TL_2APS_20230804T235402_A042394_T14SQB_N05.09    1\n",
       "S2A_OPER_MSI_L2A_TL_2APS_20230818T002256_A042580_T14SPC_N05.09    1\n",
       "S2B_OPER_MSI_L2A_TL_2BPS_20230819T223356_A033700_T14SPB_N05.09    1\n",
       "S2A_OPER_MSI_L2A_TL_2APS_20230815T002553_A042537_T14SPB_N05.09    1\n",
       "S2A_OPER_MSI_L2A_TL_2APS_20230815T002553_A042537_T14SQB_N05.09    1\n",
       "S2B_OPER_MSI_L2A_TL_2BPS_20230819T223356_A033700_T14SPC_N05.09    1\n",
       "S2A_OPER_MSI_L2A_TL_2APS_20230818T002256_A042580_T14SQC_N05.09    1\n",
       "S2A_OPER_MSI_L2A_TL_2APS_20230804T235402_A042394_T14SPB_N05.09    1\n",
       "S2B_OPER_MSI_L2A_TL_2BPS_20230819T223356_A033700_T14SQC_N05.09    1\n",
       "Name: count, dtype: int64"
      ]
     },
     "execution_count": 7,
     "metadata": {},
     "output_type": "execute_result"
    }
   ],
   "source": [
    "search_gdf[\"s2:granule_id\"].value_counts()"
   ]
  },
  {
   "cell_type": "code",
   "execution_count": 8,
   "metadata": {},
   "outputs": [],
   "source": [
    "search_gdf[\"area\"] = search_gdf.geometry.area"
   ]
  },
  {
   "cell_type": "code",
   "execution_count": 9,
   "metadata": {},
   "outputs": [],
   "source": [
    "search_gdf.sort_values(\"area\", ascending=False, inplace=True)"
   ]
  },
  {
   "cell_type": "code",
   "execution_count": 10,
   "metadata": {},
   "outputs": [
    {
     "data": {
      "text/html": [
       "<div>\n",
       "<style scoped>\n",
       "    .dataframe tbody tr th:only-of-type {\n",
       "        vertical-align: middle;\n",
       "    }\n",
       "\n",
       "    .dataframe tbody tr th {\n",
       "        vertical-align: top;\n",
       "    }\n",
       "\n",
       "    .dataframe thead th {\n",
       "        text-align: right;\n",
       "    }\n",
       "</style>\n",
       "<table border=\"1\" class=\"dataframe\">\n",
       "  <thead>\n",
       "    <tr style=\"text-align: right;\">\n",
       "      <th></th>\n",
       "      <th>geometry</th>\n",
       "      <th>created</th>\n",
       "      <th>platform</th>\n",
       "      <th>constellation</th>\n",
       "      <th>instruments</th>\n",
       "      <th>eo:cloud_cover</th>\n",
       "      <th>proj:epsg</th>\n",
       "      <th>mgrs:utm_zone</th>\n",
       "      <th>mgrs:latitude_band</th>\n",
       "      <th>mgrs:grid_square</th>\n",
       "      <th>...</th>\n",
       "      <th>s2:granule_id</th>\n",
       "      <th>s2:reflectance_conversion_factor</th>\n",
       "      <th>datetime</th>\n",
       "      <th>s2:sequence</th>\n",
       "      <th>earthsearch:s3_path</th>\n",
       "      <th>earthsearch:payload_id</th>\n",
       "      <th>earthsearch:boa_offset_applied</th>\n",
       "      <th>processing:software</th>\n",
       "      <th>updated</th>\n",
       "      <th>area</th>\n",
       "    </tr>\n",
       "  </thead>\n",
       "  <tbody>\n",
       "    <tr>\n",
       "      <th>2</th>\n",
       "      <td>POLYGON ((-97.91284 34.33683, -97.92531 33.346...</td>\n",
       "      <td>2023-08-18T06:10:25.042Z</td>\n",
       "      <td>sentinel-2a</td>\n",
       "      <td>sentinel-2</td>\n",
       "      <td>[msi]</td>\n",
       "      <td>0.006437</td>\n",
       "      <td>32614</td>\n",
       "      <td>14</td>\n",
       "      <td>S</td>\n",
       "      <td>PC</td>\n",
       "      <td>...</td>\n",
       "      <td>S2A_OPER_MSI_L2A_TL_2APS_20230818T002256_A0425...</td>\n",
       "      <td>0.974489</td>\n",
       "      <td>2023-08-17T17:24:31.907000Z</td>\n",
       "      <td>0</td>\n",
       "      <td>s3://sentinel-cogs/sentinel-s2-l2a-cogs/14/S/P...</td>\n",
       "      <td>roda-sentinel2/workflow-sentinel2-to-stac/a898...</td>\n",
       "      <td>True</td>\n",
       "      <td>{'sentinel2-to-stac': '0.1.1'}</td>\n",
       "      <td>2023-08-18T06:10:25.042Z</td>\n",
       "      <td>1.174444</td>\n",
       "    </tr>\n",
       "    <tr>\n",
       "      <th>9</th>\n",
       "      <td>POLYGON ((-96.81576 34.32217, -96.82780 34.277...</td>\n",
       "      <td>2023-08-20T04:44:38.807Z</td>\n",
       "      <td>sentinel-2b</td>\n",
       "      <td>sentinel-2</td>\n",
       "      <td>[msi]</td>\n",
       "      <td>0.076934</td>\n",
       "      <td>32614</td>\n",
       "      <td>14</td>\n",
       "      <td>S</td>\n",
       "      <td>QC</td>\n",
       "      <td>...</td>\n",
       "      <td>S2B_OPER_MSI_L2A_TL_2BPS_20230819T223356_A0337...</td>\n",
       "      <td>0.975198</td>\n",
       "      <td>2023-08-19T17:14:31.780000Z</td>\n",
       "      <td>0</td>\n",
       "      <td>s3://sentinel-cogs/sentinel-s2-l2a-cogs/14/S/Q...</td>\n",
       "      <td>roda-sentinel2/workflow-sentinel2-to-stac/2524...</td>\n",
       "      <td>True</td>\n",
       "      <td>{'sentinel2-to-stac': '0.1.1'}</td>\n",
       "      <td>2023-08-20T04:44:38.807Z</td>\n",
       "      <td>1.172798</td>\n",
       "    </tr>\n",
       "    <tr>\n",
       "      <th>0</th>\n",
       "      <td>POLYGON ((-96.84938 33.42092, -96.87321 32.431...</td>\n",
       "      <td>2023-08-20T04:40:37.325Z</td>\n",
       "      <td>sentinel-2b</td>\n",
       "      <td>sentinel-2</td>\n",
       "      <td>[msi]</td>\n",
       "      <td>0.004539</td>\n",
       "      <td>32614</td>\n",
       "      <td>14</td>\n",
       "      <td>S</td>\n",
       "      <td>QB</td>\n",
       "      <td>...</td>\n",
       "      <td>S2B_OPER_MSI_L2A_TL_2BPS_20230819T223356_A0337...</td>\n",
       "      <td>0.975198</td>\n",
       "      <td>2023-08-19T17:14:46.266000Z</td>\n",
       "      <td>0</td>\n",
       "      <td>s3://sentinel-cogs/sentinel-s2-l2a-cogs/14/S/Q...</td>\n",
       "      <td>roda-sentinel2/workflow-sentinel2-to-stac/a707...</td>\n",
       "      <td>True</td>\n",
       "      <td>{'sentinel2-to-stac': '0.1.1'}</td>\n",
       "      <td>2023-08-20T04:40:37.325Z</td>\n",
       "      <td>1.161135</td>\n",
       "    </tr>\n",
       "    <tr>\n",
       "      <th>1</th>\n",
       "      <td>POLYGON ((-96.84938 33.42092, -96.87321 32.431...</td>\n",
       "      <td>2023-08-05T04:59:04.872Z</td>\n",
       "      <td>sentinel-2a</td>\n",
       "      <td>sentinel-2</td>\n",
       "      <td>[msi]</td>\n",
       "      <td>0.005262</td>\n",
       "      <td>32614</td>\n",
       "      <td>14</td>\n",
       "      <td>S</td>\n",
       "      <td>QB</td>\n",
       "      <td>...</td>\n",
       "      <td>S2A_OPER_MSI_L2A_TL_2APS_20230804T235402_A0423...</td>\n",
       "      <td>0.970632</td>\n",
       "      <td>2023-08-04T17:14:46.231000Z</td>\n",
       "      <td>0</td>\n",
       "      <td>s3://sentinel-cogs/sentinel-s2-l2a-cogs/14/S/Q...</td>\n",
       "      <td>roda-sentinel2/workflow-sentinel2-to-stac/73a7...</td>\n",
       "      <td>True</td>\n",
       "      <td>{'sentinel2-to-stac': '0.1.1'}</td>\n",
       "      <td>2023-08-05T04:59:04.872Z</td>\n",
       "      <td>1.161135</td>\n",
       "    </tr>\n",
       "    <tr>\n",
       "      <th>5</th>\n",
       "      <td>POLYGON ((-96.84938 33.42092, -96.87321 32.431...</td>\n",
       "      <td>2023-08-15T04:10:46.325Z</td>\n",
       "      <td>sentinel-2a</td>\n",
       "      <td>sentinel-2</td>\n",
       "      <td>[msi]</td>\n",
       "      <td>0.014575</td>\n",
       "      <td>32614</td>\n",
       "      <td>14</td>\n",
       "      <td>S</td>\n",
       "      <td>QB</td>\n",
       "      <td>...</td>\n",
       "      <td>S2A_OPER_MSI_L2A_TL_2APS_20230815T002553_A0425...</td>\n",
       "      <td>0.973476</td>\n",
       "      <td>2023-08-14T17:14:46.612000Z</td>\n",
       "      <td>0</td>\n",
       "      <td>s3://sentinel-cogs/sentinel-s2-l2a-cogs/14/S/Q...</td>\n",
       "      <td>roda-sentinel2/workflow-sentinel2-to-stac/cac3...</td>\n",
       "      <td>True</td>\n",
       "      <td>{'sentinel2-to-stac': '0.1.1'}</td>\n",
       "      <td>2023-08-15T04:10:46.325Z</td>\n",
       "      <td>1.161135</td>\n",
       "    </tr>\n",
       "    <tr>\n",
       "      <th>7</th>\n",
       "      <td>POLYGON ((-96.82664 34.32236, -96.85153 33.333...</td>\n",
       "      <td>2023-08-18T06:09:55.100Z</td>\n",
       "      <td>sentinel-2a</td>\n",
       "      <td>sentinel-2</td>\n",
       "      <td>[msi]</td>\n",
       "      <td>0.040440</td>\n",
       "      <td>32614</td>\n",
       "      <td>14</td>\n",
       "      <td>S</td>\n",
       "      <td>QC</td>\n",
       "      <td>...</td>\n",
       "      <td>S2A_OPER_MSI_L2A_TL_2APS_20230818T002256_A0425...</td>\n",
       "      <td>0.974489</td>\n",
       "      <td>2023-08-17T17:24:28.416000Z</td>\n",
       "      <td>0</td>\n",
       "      <td>s3://sentinel-cogs/sentinel-s2-l2a-cogs/14/S/Q...</td>\n",
       "      <td>roda-sentinel2/workflow-sentinel2-to-stac/c613...</td>\n",
       "      <td>True</td>\n",
       "      <td>{'sentinel2-to-stac': '0.1.1'}</td>\n",
       "      <td>2023-08-18T06:09:55.100Z</td>\n",
       "      <td>0.620451</td>\n",
       "    </tr>\n",
       "    <tr>\n",
       "      <th>4</th>\n",
       "      <td>POLYGON ((-97.06177 33.42442, -97.32332 32.437...</td>\n",
       "      <td>2023-08-15T04:07:22.379Z</td>\n",
       "      <td>sentinel-2a</td>\n",
       "      <td>sentinel-2</td>\n",
       "      <td>[msi]</td>\n",
       "      <td>0.014211</td>\n",
       "      <td>32614</td>\n",
       "      <td>14</td>\n",
       "      <td>S</td>\n",
       "      <td>PB</td>\n",
       "      <td>...</td>\n",
       "      <td>S2A_OPER_MSI_L2A_TL_2APS_20230815T002553_A0425...</td>\n",
       "      <td>0.973476</td>\n",
       "      <td>2023-08-14T17:14:49.390000Z</td>\n",
       "      <td>0</td>\n",
       "      <td>s3://sentinel-cogs/sentinel-s2-l2a-cogs/14/S/P...</td>\n",
       "      <td>roda-sentinel2/workflow-sentinel2-to-stac/ccee...</td>\n",
       "      <td>True</td>\n",
       "      <td>{'sentinel2-to-stac': '0.1.1'}</td>\n",
       "      <td>2023-08-15T04:07:22.379Z</td>\n",
       "      <td>0.432199</td>\n",
       "    </tr>\n",
       "    <tr>\n",
       "      <th>8</th>\n",
       "      <td>POLYGON ((-97.05919 33.42438, -97.32056 32.437...</td>\n",
       "      <td>2023-08-05T04:52:48.750Z</td>\n",
       "      <td>sentinel-2a</td>\n",
       "      <td>sentinel-2</td>\n",
       "      <td>[msi]</td>\n",
       "      <td>0.059570</td>\n",
       "      <td>32614</td>\n",
       "      <td>14</td>\n",
       "      <td>S</td>\n",
       "      <td>PB</td>\n",
       "      <td>...</td>\n",
       "      <td>S2A_OPER_MSI_L2A_TL_2APS_20230804T235402_A0423...</td>\n",
       "      <td>0.970632</td>\n",
       "      <td>2023-08-04T17:14:49.014000Z</td>\n",
       "      <td>0</td>\n",
       "      <td>s3://sentinel-cogs/sentinel-s2-l2a-cogs/14/S/P...</td>\n",
       "      <td>roda-sentinel2/workflow-sentinel2-to-stac/a5ff...</td>\n",
       "      <td>True</td>\n",
       "      <td>{'sentinel2-to-stac': '0.1.1'}</td>\n",
       "      <td>2023-08-05T04:52:48.750Z</td>\n",
       "      <td>0.429551</td>\n",
       "    </tr>\n",
       "    <tr>\n",
       "      <th>3</th>\n",
       "      <td>POLYGON ((-97.05790 33.42436, -97.31949 32.437...</td>\n",
       "      <td>2023-08-20T04:36:25.463Z</td>\n",
       "      <td>sentinel-2b</td>\n",
       "      <td>sentinel-2</td>\n",
       "      <td>[msi]</td>\n",
       "      <td>0.009056</td>\n",
       "      <td>32614</td>\n",
       "      <td>14</td>\n",
       "      <td>S</td>\n",
       "      <td>PB</td>\n",
       "      <td>...</td>\n",
       "      <td>S2B_OPER_MSI_L2A_TL_2BPS_20230819T223356_A0337...</td>\n",
       "      <td>0.975198</td>\n",
       "      <td>2023-08-19T17:14:49.046000Z</td>\n",
       "      <td>0</td>\n",
       "      <td>s3://sentinel-cogs/sentinel-s2-l2a-cogs/14/S/P...</td>\n",
       "      <td>roda-sentinel2/workflow-sentinel2-to-stac/ee80...</td>\n",
       "      <td>True</td>\n",
       "      <td>{'sentinel2-to-stac': '0.1.1'}</td>\n",
       "      <td>2023-08-20T04:36:25.463Z</td>\n",
       "      <td>0.428386</td>\n",
       "    </tr>\n",
       "    <tr>\n",
       "      <th>6</th>\n",
       "      <td>POLYGON ((-96.81576 34.32217, -97.08134 33.336...</td>\n",
       "      <td>2023-08-20T04:30:59.255Z</td>\n",
       "      <td>sentinel-2b</td>\n",
       "      <td>sentinel-2</td>\n",
       "      <td>[msi]</td>\n",
       "      <td>0.017386</td>\n",
       "      <td>32614</td>\n",
       "      <td>14</td>\n",
       "      <td>S</td>\n",
       "      <td>PC</td>\n",
       "      <td>...</td>\n",
       "      <td>S2B_OPER_MSI_L2A_TL_2BPS_20230819T223356_A0337...</td>\n",
       "      <td>0.975198</td>\n",
       "      <td>2023-08-19T17:14:35.561000Z</td>\n",
       "      <td>0</td>\n",
       "      <td>s3://sentinel-cogs/sentinel-s2-l2a-cogs/14/S/P...</td>\n",
       "      <td>roda-sentinel2/workflow-sentinel2-to-stac/741d...</td>\n",
       "      <td>True</td>\n",
       "      <td>{'sentinel2-to-stac': '0.1.1'}</td>\n",
       "      <td>2023-08-20T04:30:59.255Z</td>\n",
       "      <td>0.213553</td>\n",
       "    </tr>\n",
       "  </tbody>\n",
       "</table>\n",
       "<p>10 rows × 43 columns</p>\n",
       "</div>"
      ],
      "text/plain": [
       "                                            geometry  \\\n",
       "2  POLYGON ((-97.91284 34.33683, -97.92531 33.346...   \n",
       "9  POLYGON ((-96.81576 34.32217, -96.82780 34.277...   \n",
       "0  POLYGON ((-96.84938 33.42092, -96.87321 32.431...   \n",
       "1  POLYGON ((-96.84938 33.42092, -96.87321 32.431...   \n",
       "5  POLYGON ((-96.84938 33.42092, -96.87321 32.431...   \n",
       "7  POLYGON ((-96.82664 34.32236, -96.85153 33.333...   \n",
       "4  POLYGON ((-97.06177 33.42442, -97.32332 32.437...   \n",
       "8  POLYGON ((-97.05919 33.42438, -97.32056 32.437...   \n",
       "3  POLYGON ((-97.05790 33.42436, -97.31949 32.437...   \n",
       "6  POLYGON ((-96.81576 34.32217, -97.08134 33.336...   \n",
       "\n",
       "                    created     platform constellation instruments  \\\n",
       "2  2023-08-18T06:10:25.042Z  sentinel-2a    sentinel-2       [msi]   \n",
       "9  2023-08-20T04:44:38.807Z  sentinel-2b    sentinel-2       [msi]   \n",
       "0  2023-08-20T04:40:37.325Z  sentinel-2b    sentinel-2       [msi]   \n",
       "1  2023-08-05T04:59:04.872Z  sentinel-2a    sentinel-2       [msi]   \n",
       "5  2023-08-15T04:10:46.325Z  sentinel-2a    sentinel-2       [msi]   \n",
       "7  2023-08-18T06:09:55.100Z  sentinel-2a    sentinel-2       [msi]   \n",
       "4  2023-08-15T04:07:22.379Z  sentinel-2a    sentinel-2       [msi]   \n",
       "8  2023-08-05T04:52:48.750Z  sentinel-2a    sentinel-2       [msi]   \n",
       "3  2023-08-20T04:36:25.463Z  sentinel-2b    sentinel-2       [msi]   \n",
       "6  2023-08-20T04:30:59.255Z  sentinel-2b    sentinel-2       [msi]   \n",
       "\n",
       "   eo:cloud_cover  proj:epsg  mgrs:utm_zone mgrs:latitude_band  \\\n",
       "2        0.006437      32614             14                  S   \n",
       "9        0.076934      32614             14                  S   \n",
       "0        0.004539      32614             14                  S   \n",
       "1        0.005262      32614             14                  S   \n",
       "5        0.014575      32614             14                  S   \n",
       "7        0.040440      32614             14                  S   \n",
       "4        0.014211      32614             14                  S   \n",
       "8        0.059570      32614             14                  S   \n",
       "3        0.009056      32614             14                  S   \n",
       "6        0.017386      32614             14                  S   \n",
       "\n",
       "  mgrs:grid_square  ...                                      s2:granule_id  \\\n",
       "2               PC  ...  S2A_OPER_MSI_L2A_TL_2APS_20230818T002256_A0425...   \n",
       "9               QC  ...  S2B_OPER_MSI_L2A_TL_2BPS_20230819T223356_A0337...   \n",
       "0               QB  ...  S2B_OPER_MSI_L2A_TL_2BPS_20230819T223356_A0337...   \n",
       "1               QB  ...  S2A_OPER_MSI_L2A_TL_2APS_20230804T235402_A0423...   \n",
       "5               QB  ...  S2A_OPER_MSI_L2A_TL_2APS_20230815T002553_A0425...   \n",
       "7               QC  ...  S2A_OPER_MSI_L2A_TL_2APS_20230818T002256_A0425...   \n",
       "4               PB  ...  S2A_OPER_MSI_L2A_TL_2APS_20230815T002553_A0425...   \n",
       "8               PB  ...  S2A_OPER_MSI_L2A_TL_2APS_20230804T235402_A0423...   \n",
       "3               PB  ...  S2B_OPER_MSI_L2A_TL_2BPS_20230819T223356_A0337...   \n",
       "6               PC  ...  S2B_OPER_MSI_L2A_TL_2BPS_20230819T223356_A0337...   \n",
       "\n",
       "   s2:reflectance_conversion_factor                     datetime  s2:sequence  \\\n",
       "2                          0.974489  2023-08-17T17:24:31.907000Z            0   \n",
       "9                          0.975198  2023-08-19T17:14:31.780000Z            0   \n",
       "0                          0.975198  2023-08-19T17:14:46.266000Z            0   \n",
       "1                          0.970632  2023-08-04T17:14:46.231000Z            0   \n",
       "5                          0.973476  2023-08-14T17:14:46.612000Z            0   \n",
       "7                          0.974489  2023-08-17T17:24:28.416000Z            0   \n",
       "4                          0.973476  2023-08-14T17:14:49.390000Z            0   \n",
       "8                          0.970632  2023-08-04T17:14:49.014000Z            0   \n",
       "3                          0.975198  2023-08-19T17:14:49.046000Z            0   \n",
       "6                          0.975198  2023-08-19T17:14:35.561000Z            0   \n",
       "\n",
       "                                 earthsearch:s3_path  \\\n",
       "2  s3://sentinel-cogs/sentinel-s2-l2a-cogs/14/S/P...   \n",
       "9  s3://sentinel-cogs/sentinel-s2-l2a-cogs/14/S/Q...   \n",
       "0  s3://sentinel-cogs/sentinel-s2-l2a-cogs/14/S/Q...   \n",
       "1  s3://sentinel-cogs/sentinel-s2-l2a-cogs/14/S/Q...   \n",
       "5  s3://sentinel-cogs/sentinel-s2-l2a-cogs/14/S/Q...   \n",
       "7  s3://sentinel-cogs/sentinel-s2-l2a-cogs/14/S/Q...   \n",
       "4  s3://sentinel-cogs/sentinel-s2-l2a-cogs/14/S/P...   \n",
       "8  s3://sentinel-cogs/sentinel-s2-l2a-cogs/14/S/P...   \n",
       "3  s3://sentinel-cogs/sentinel-s2-l2a-cogs/14/S/P...   \n",
       "6  s3://sentinel-cogs/sentinel-s2-l2a-cogs/14/S/P...   \n",
       "\n",
       "                              earthsearch:payload_id  \\\n",
       "2  roda-sentinel2/workflow-sentinel2-to-stac/a898...   \n",
       "9  roda-sentinel2/workflow-sentinel2-to-stac/2524...   \n",
       "0  roda-sentinel2/workflow-sentinel2-to-stac/a707...   \n",
       "1  roda-sentinel2/workflow-sentinel2-to-stac/73a7...   \n",
       "5  roda-sentinel2/workflow-sentinel2-to-stac/cac3...   \n",
       "7  roda-sentinel2/workflow-sentinel2-to-stac/c613...   \n",
       "4  roda-sentinel2/workflow-sentinel2-to-stac/ccee...   \n",
       "8  roda-sentinel2/workflow-sentinel2-to-stac/a5ff...   \n",
       "3  roda-sentinel2/workflow-sentinel2-to-stac/ee80...   \n",
       "6  roda-sentinel2/workflow-sentinel2-to-stac/741d...   \n",
       "\n",
       "   earthsearch:boa_offset_applied             processing:software  \\\n",
       "2                            True  {'sentinel2-to-stac': '0.1.1'}   \n",
       "9                            True  {'sentinel2-to-stac': '0.1.1'}   \n",
       "0                            True  {'sentinel2-to-stac': '0.1.1'}   \n",
       "1                            True  {'sentinel2-to-stac': '0.1.1'}   \n",
       "5                            True  {'sentinel2-to-stac': '0.1.1'}   \n",
       "7                            True  {'sentinel2-to-stac': '0.1.1'}   \n",
       "4                            True  {'sentinel2-to-stac': '0.1.1'}   \n",
       "8                            True  {'sentinel2-to-stac': '0.1.1'}   \n",
       "3                            True  {'sentinel2-to-stac': '0.1.1'}   \n",
       "6                            True  {'sentinel2-to-stac': '0.1.1'}   \n",
       "\n",
       "                    updated      area  \n",
       "2  2023-08-18T06:10:25.042Z  1.174444  \n",
       "9  2023-08-20T04:44:38.807Z  1.172798  \n",
       "0  2023-08-20T04:40:37.325Z  1.161135  \n",
       "1  2023-08-05T04:59:04.872Z  1.161135  \n",
       "5  2023-08-15T04:10:46.325Z  1.161135  \n",
       "7  2023-08-18T06:09:55.100Z  0.620451  \n",
       "4  2023-08-15T04:07:22.379Z  0.432199  \n",
       "8  2023-08-05T04:52:48.750Z  0.429551  \n",
       "3  2023-08-20T04:36:25.463Z  0.428386  \n",
       "6  2023-08-20T04:30:59.255Z  0.213553  \n",
       "\n",
       "[10 rows x 43 columns]"
      ]
     },
     "execution_count": 10,
     "metadata": {},
     "output_type": "execute_result"
    }
   ],
   "source": [
    "search_gdf"
   ]
  },
  {
   "cell_type": "code",
   "execution_count": 11,
   "metadata": {},
   "outputs": [],
   "source": [
    "search_gdf.drop_duplicates(\"mgrs:grid_square\", inplace=True)"
   ]
  },
  {
   "cell_type": "code",
   "execution_count": 12,
   "metadata": {},
   "outputs": [
    {
     "data": {
      "text/plain": [
       "<Axes: >"
      ]
     },
     "execution_count": 12,
     "metadata": {},
     "output_type": "execute_result"
    },
    {
     "data": {
      "image/png": "[encoded data removed]",
      "text/plain": [
       "<Figure size 640x480 with 1 Axes>"
      ]
     },
     "metadata": {},
     "output_type": "display_data"
    }
   ],
   "source": [
    "search_gdf.iloc[0:4].plot(\"s2:granule_id\", alpha=0.5)"
   ]
  },
  {
   "cell_type": "code",
   "execution_count": 13,
   "metadata": {},
   "outputs": [],
   "source": [
    "# # create a query searching for unique datastrip ids based on the above\n",
    "q = {\"s2:granule_id\": {\"in\": search_gdf[\"s2:granule_id\"].iloc[0:4].unique().tolist()}}\n",
    "\n",
    "search_gdf2 = leafmap.stac_search(\n",
    "    url=url,\n",
    "    max_items=4,\n",
    "    collections=[collection],\n",
    "    bbox=bbox,\n",
    "    datetime=time_range,\n",
    "    query=q,\n",
    "    get_gdf=True,\n",
    ")"
   ]
  },
  {
   "cell_type": "code",
   "execution_count": 14,
   "metadata": {},
   "outputs": [
    {
     "data": {
      "text/html": [
       "<div>\n",
       "<style scoped>\n",
       "    .dataframe tbody tr th:only-of-type {\n",
       "        vertical-align: middle;\n",
       "    }\n",
       "\n",
       "    .dataframe tbody tr th {\n",
       "        vertical-align: top;\n",
       "    }\n",
       "\n",
       "    .dataframe thead th {\n",
       "        text-align: right;\n",
       "    }\n",
       "</style>\n",
       "<table border=\"1\" class=\"dataframe\">\n",
       "  <thead>\n",
       "    <tr style=\"text-align: right;\">\n",
       "      <th></th>\n",
       "      <th>geometry</th>\n",
       "      <th>created</th>\n",
       "      <th>platform</th>\n",
       "      <th>constellation</th>\n",
       "      <th>instruments</th>\n",
       "      <th>eo:cloud_cover</th>\n",
       "      <th>proj:epsg</th>\n",
       "      <th>mgrs:utm_zone</th>\n",
       "      <th>mgrs:latitude_band</th>\n",
       "      <th>mgrs:grid_square</th>\n",
       "      <th>...</th>\n",
       "      <th>s2:datastrip_id</th>\n",
       "      <th>s2:granule_id</th>\n",
       "      <th>s2:reflectance_conversion_factor</th>\n",
       "      <th>datetime</th>\n",
       "      <th>s2:sequence</th>\n",
       "      <th>earthsearch:s3_path</th>\n",
       "      <th>earthsearch:payload_id</th>\n",
       "      <th>earthsearch:boa_offset_applied</th>\n",
       "      <th>processing:software</th>\n",
       "      <th>updated</th>\n",
       "    </tr>\n",
       "  </thead>\n",
       "  <tbody>\n",
       "    <tr>\n",
       "      <th>0</th>\n",
       "      <td>POLYGON ((-96.84938 33.42092, -96.87321 32.431...</td>\n",
       "      <td>2023-08-20T04:40:37.325Z</td>\n",
       "      <td>sentinel-2b</td>\n",
       "      <td>sentinel-2</td>\n",
       "      <td>[msi]</td>\n",
       "      <td>0.004539</td>\n",
       "      <td>32614</td>\n",
       "      <td>14</td>\n",
       "      <td>S</td>\n",
       "      <td>QB</td>\n",
       "      <td>...</td>\n",
       "      <td>S2B_OPER_MSI_L2A_DS_2BPS_20230819T223356_S2023...</td>\n",
       "      <td>S2B_OPER_MSI_L2A_TL_2BPS_20230819T223356_A0337...</td>\n",
       "      <td>0.975198</td>\n",
       "      <td>2023-08-19T17:14:46.266000Z</td>\n",
       "      <td>0</td>\n",
       "      <td>s3://sentinel-cogs/sentinel-s2-l2a-cogs/14/S/Q...</td>\n",
       "      <td>roda-sentinel2/workflow-sentinel2-to-stac/a707...</td>\n",
       "      <td>True</td>\n",
       "      <td>{'sentinel2-to-stac': '0.1.1'}</td>\n",
       "      <td>2023-08-20T04:40:37.325Z</td>\n",
       "    </tr>\n",
       "    <tr>\n",
       "      <th>1</th>\n",
       "      <td>POLYGON ((-96.81576 34.32217, -96.82780 34.277...</td>\n",
       "      <td>2023-08-20T04:44:38.807Z</td>\n",
       "      <td>sentinel-2b</td>\n",
       "      <td>sentinel-2</td>\n",
       "      <td>[msi]</td>\n",
       "      <td>0.076934</td>\n",
       "      <td>32614</td>\n",
       "      <td>14</td>\n",
       "      <td>S</td>\n",
       "      <td>QC</td>\n",
       "      <td>...</td>\n",
       "      <td>S2B_OPER_MSI_L2A_DS_2BPS_20230819T223356_S2023...</td>\n",
       "      <td>S2B_OPER_MSI_L2A_TL_2BPS_20230819T223356_A0337...</td>\n",
       "      <td>0.975198</td>\n",
       "      <td>2023-08-19T17:14:31.780000Z</td>\n",
       "      <td>0</td>\n",
       "      <td>s3://sentinel-cogs/sentinel-s2-l2a-cogs/14/S/Q...</td>\n",
       "      <td>roda-sentinel2/workflow-sentinel2-to-stac/2524...</td>\n",
       "      <td>True</td>\n",
       "      <td>{'sentinel2-to-stac': '0.1.1'}</td>\n",
       "      <td>2023-08-20T04:44:38.807Z</td>\n",
       "    </tr>\n",
       "    <tr>\n",
       "      <th>2</th>\n",
       "      <td>POLYGON ((-97.91284 34.33683, -97.92531 33.346...</td>\n",
       "      <td>2023-08-18T06:10:25.042Z</td>\n",
       "      <td>sentinel-2a</td>\n",
       "      <td>sentinel-2</td>\n",
       "      <td>[msi]</td>\n",
       "      <td>0.006437</td>\n",
       "      <td>32614</td>\n",
       "      <td>14</td>\n",
       "      <td>S</td>\n",
       "      <td>PC</td>\n",
       "      <td>...</td>\n",
       "      <td>S2A_OPER_MSI_L2A_DS_2APS_20230818T002256_S2023...</td>\n",
       "      <td>S2A_OPER_MSI_L2A_TL_2APS_20230818T002256_A0425...</td>\n",
       "      <td>0.974489</td>\n",
       "      <td>2023-08-17T17:24:31.907000Z</td>\n",
       "      <td>0</td>\n",
       "      <td>s3://sentinel-cogs/sentinel-s2-l2a-cogs/14/S/P...</td>\n",
       "      <td>roda-sentinel2/workflow-sentinel2-to-stac/a898...</td>\n",
       "      <td>True</td>\n",
       "      <td>{'sentinel2-to-stac': '0.1.1'}</td>\n",
       "      <td>2023-08-18T06:10:25.042Z</td>\n",
       "    </tr>\n",
       "    <tr>\n",
       "      <th>3</th>\n",
       "      <td>POLYGON ((-97.06177 33.42442, -97.32332 32.437...</td>\n",
       "      <td>2023-08-15T04:07:22.379Z</td>\n",
       "      <td>sentinel-2a</td>\n",
       "      <td>sentinel-2</td>\n",
       "      <td>[msi]</td>\n",
       "      <td>0.014211</td>\n",
       "      <td>32614</td>\n",
       "      <td>14</td>\n",
       "      <td>S</td>\n",
       "      <td>PB</td>\n",
       "      <td>...</td>\n",
       "      <td>S2A_OPER_MSI_L2A_DS_2APS_20230815T002553_S2023...</td>\n",
       "      <td>S2A_OPER_MSI_L2A_TL_2APS_20230815T002553_A0425...</td>\n",
       "      <td>0.973476</td>\n",
       "      <td>2023-08-14T17:14:49.390000Z</td>\n",
       "      <td>0</td>\n",
       "      <td>s3://sentinel-cogs/sentinel-s2-l2a-cogs/14/S/P...</td>\n",
       "      <td>roda-sentinel2/workflow-sentinel2-to-stac/ccee...</td>\n",
       "      <td>True</td>\n",
       "      <td>{'sentinel2-to-stac': '0.1.1'}</td>\n",
       "      <td>2023-08-15T04:07:22.379Z</td>\n",
       "    </tr>\n",
       "  </tbody>\n",
       "</table>\n",
       "<p>4 rows × 42 columns</p>\n",
       "</div>"
      ],
      "text/plain": [
       "                                            geometry  \\\n",
       "0  POLYGON ((-96.84938 33.42092, -96.87321 32.431...   \n",
       "1  POLYGON ((-96.81576 34.32217, -96.82780 34.277...   \n",
       "2  POLYGON ((-97.91284 34.33683, -97.92531 33.346...   \n",
       "3  POLYGON ((-97.06177 33.42442, -97.32332 32.437...   \n",
       "\n",
       "                    created     platform constellation instruments  \\\n",
       "0  2023-08-20T04:40:37.325Z  sentinel-2b    sentinel-2       [msi]   \n",
       "1  2023-08-20T04:44:38.807Z  sentinel-2b    sentinel-2       [msi]   \n",
       "2  2023-08-18T06:10:25.042Z  sentinel-2a    sentinel-2       [msi]   \n",
       "3  2023-08-15T04:07:22.379Z  sentinel-2a    sentinel-2       [msi]   \n",
       "\n",
       "   eo:cloud_cover  proj:epsg  mgrs:utm_zone mgrs:latitude_band  \\\n",
       "0        0.004539      32614             14                  S   \n",
       "1        0.076934      32614             14                  S   \n",
       "2        0.006437      32614             14                  S   \n",
       "3        0.014211      32614             14                  S   \n",
       "\n",
       "  mgrs:grid_square  ...                                    s2:datastrip_id  \\\n",
       "0               QB  ...  S2B_OPER_MSI_L2A_DS_2BPS_20230819T223356_S2023...   \n",
       "1               QC  ...  S2B_OPER_MSI_L2A_DS_2BPS_20230819T223356_S2023...   \n",
       "2               PC  ...  S2A_OPER_MSI_L2A_DS_2APS_20230818T002256_S2023...   \n",
       "3               PB  ...  S2A_OPER_MSI_L2A_DS_2APS_20230815T002553_S2023...   \n",
       "\n",
       "                                       s2:granule_id  \\\n",
       "0  S2B_OPER_MSI_L2A_TL_2BPS_20230819T223356_A0337...   \n",
       "1  S2B_OPER_MSI_L2A_TL_2BPS_20230819T223356_A0337...   \n",
       "2  S2A_OPER_MSI_L2A_TL_2APS_20230818T002256_A0425...   \n",
       "3  S2A_OPER_MSI_L2A_TL_2APS_20230815T002553_A0425...   \n",
       "\n",
       "   s2:reflectance_conversion_factor                     datetime  s2:sequence  \\\n",
       "0                          0.975198  2023-08-19T17:14:46.266000Z            0   \n",
       "1                          0.975198  2023-08-19T17:14:31.780000Z            0   \n",
       "2                          0.974489  2023-08-17T17:24:31.907000Z            0   \n",
       "3                          0.973476  2023-08-14T17:14:49.390000Z            0   \n",
       "\n",
       "                                 earthsearch:s3_path  \\\n",
       "0  s3://sentinel-cogs/sentinel-s2-l2a-cogs/14/S/Q...   \n",
       "1  s3://sentinel-cogs/sentinel-s2-l2a-cogs/14/S/Q...   \n",
       "2  s3://sentinel-cogs/sentinel-s2-l2a-cogs/14/S/P...   \n",
       "3  s3://sentinel-cogs/sentinel-s2-l2a-cogs/14/S/P...   \n",
       "\n",
       "                              earthsearch:payload_id  \\\n",
       "0  roda-sentinel2/workflow-sentinel2-to-stac/a707...   \n",
       "1  roda-sentinel2/workflow-sentinel2-to-stac/2524...   \n",
       "2  roda-sentinel2/workflow-sentinel2-to-stac/a898...   \n",
       "3  roda-sentinel2/workflow-sentinel2-to-stac/ccee...   \n",
       "\n",
       "   earthsearch:boa_offset_applied             processing:software  \\\n",
       "0                            True  {'sentinel2-to-stac': '0.1.1'}   \n",
       "1                            True  {'sentinel2-to-stac': '0.1.1'}   \n",
       "2                            True  {'sentinel2-to-stac': '0.1.1'}   \n",
       "3                            True  {'sentinel2-to-stac': '0.1.1'}   \n",
       "\n",
       "                    updated  \n",
       "0  2023-08-20T04:40:37.325Z  \n",
       "1  2023-08-20T04:44:38.807Z  \n",
       "2  2023-08-18T06:10:25.042Z  \n",
       "3  2023-08-15T04:07:22.379Z  \n",
       "\n",
       "[4 rows x 42 columns]"
      ]
     },
     "execution_count": 14,
     "metadata": {},
     "output_type": "execute_result"
    }
   ],
   "source": [
    "search_gdf2"
   ]
  },
  {
   "cell_type": "code",
   "execution_count": 15,
   "metadata": {},
   "outputs": [
    {
     "data": {
      "text/plain": [
       "<Axes: >"
      ]
     },
     "execution_count": 15,
     "metadata": {},
     "output_type": "execute_result"
    },
    {
     "data": {
      "image/png": "[encoded data removed]",
      "text/plain": [
       "<Figure size 640x480 with 1 Axes>"
      ]
     },
     "metadata": {},
     "output_type": "display_data"
    }
   ],
   "source": [
    "search_gdf2.plot(\"mgrs:grid_square\", alpha=0.5)"
   ]
  },
  {
   "cell_type": "markdown",
   "metadata": {},
   "source": [
    "### plot to accentuate paved and non-paved divide\n"
   ]
  },
  {
   "cell_type": "code",
   "execution_count": 16,
   "metadata": {},
   "outputs": [],
   "source": [
    "search_gdf2_list = leafmap.stac_search(\n",
    "    url=url,\n",
    "    max_items=4,\n",
    "    collections=[collection],\n",
    "    bbox=bbox,\n",
    "    datetime=time_range,\n",
    "    query=q,\n",
    "    get_links=True,\n",
    ")"
   ]
  },
  {
   "cell_type": "code",
   "execution_count": 17,
   "metadata": {},
   "outputs": [
    {
     "data": {
      "application/vnd.jupyter.widget-view+json": {
       "model_id": "a305f25cff96494cbda24a9b8ff2bcf9",
       "version_major": 2,
       "version_minor": 0
      },
      "text/plain": [
       "Map(center=[20, 0], controls=(ZoomControl(options=['position', 'zoom_in_text', 'zoom_in_title', 'zoom_out_text…"
      ]
     },
     "execution_count": 17,
     "metadata": {},
     "output_type": "execute_result"
    }
   ],
   "source": [
    "m = leafmap.Map()\n",
    "\n",
    "for layer in search_gdf2_list:\n",
    "    m.add_stac_layer(layer, bands=[\"nir\", \"red\", \"green\"], name=layer.split(\"/\")[-1])\n",
    "m"
   ]
  },
  {
   "cell_type": "markdown",
   "metadata": {},
   "source": [
    "### download files for analysis\n"
   ]
  },
  {
   "cell_type": "code",
   "execution_count": 18,
   "metadata": {},
   "outputs": [],
   "source": [
    "def get_raster_band_urls(item: str, bands: list | None = None):\n",
    "    available_bands = leafmap.stac_bands(item)\n",
    "    stac = requests.get(item).json()\n",
    "    band_urls = {\n",
    "        x: stac[\"assets\"][x][\"href\"]\n",
    "        for x in available_bands\n",
    "        if stac[\"assets\"][x][\"href\"].startswith(\"http\")\n",
    "    }\n",
    "\n",
    "    # if bands, only return bands in list\n",
    "    if bands:\n",
    "        band_urls = {x: band_urls[x] for x in bands if x in band_urls}\n",
    "\n",
    "    return band_urls\n",
    "\n",
    "\n",
    "def download_stac_layers(layers, out_dir, bands=None):\n",
    "    for layer in layers:\n",
    "        band_urls = get_raster_band_urls(layer, bands)\n",
    "        for band, url in band_urls.items():\n",
    "            print(url)\n",
    "            out_file = f\"{out_dir}/{layer.split('/')[-1]}_{band}.tif\"\n",
    "            leafmap.download_file(url, out_file, overwrite=False)\n",
    "\n",
    "\n",
    "def get_stac_crs(item):\n",
    "    stac = requests.get(item).json()\n",
    "    return stac[\"properties\"][\"proj:epsg\"]"
   ]
  },
  {
   "cell_type": "code",
   "execution_count": 19,
   "metadata": {},
   "outputs": [],
   "source": [
    "stac_crs = get_stac_crs(search_gdf2_list[0])"
   ]
  },
  {
   "cell_type": "code",
   "execution_count": 20,
   "metadata": {},
   "outputs": [
    {
     "name": "stdout",
     "output_type": "stream",
     "text": [
      "https://sentinel-cogs.s3.us-west-2.amazonaws.com/sentinel-s2-l2a-cogs/14/S/QB/2023/8/S2B_14SQB_20230819_0_L2A/AOT.tif\n",
      "../Data/stac/dallas/S2B_14SQB_20230819_0_L2A_aot.tif already exists. Skip downloading. Set overwrite=True to overwrite.\n",
      "https://sentinel-cogs.s3.us-west-2.amazonaws.com/sentinel-s2-l2a-cogs/14/S/QB/2023/8/S2B_14SQB_20230819_0_L2A/B02.tif\n",
      "../Data/stac/dallas/S2B_14SQB_20230819_0_L2A_blue.tif already exists. Skip downloading. Set overwrite=True to overwrite.\n",
      "https://sentinel-cogs.s3.us-west-2.amazonaws.com/sentinel-s2-l2a-cogs/14/S/QB/2023/8/S2B_14SQB_20230819_0_L2A/B01.tif\n",
      "../Data/stac/dallas/S2B_14SQB_20230819_0_L2A_coastal.tif already exists. Skip downloading. Set overwrite=True to overwrite.\n",
      "https://sentinel-cogs.s3.us-west-2.amazonaws.com/sentinel-s2-l2a-cogs/14/S/QB/2023/8/S2B_14SQB_20230819_0_L2A/B03.tif\n",
      "../Data/stac/dallas/S2B_14SQB_20230819_0_L2A_green.tif already exists. Skip downloading. Set overwrite=True to overwrite.\n",
      "https://sentinel-cogs.s3.us-west-2.amazonaws.com/sentinel-s2-l2a-cogs/14/S/QB/2023/8/S2B_14SQB_20230819_0_L2A/B08.tif\n",
      "../Data/stac/dallas/S2B_14SQB_20230819_0_L2A_nir.tif already exists. Skip downloading. Set overwrite=True to overwrite.\n",
      "https://sentinel-cogs.s3.us-west-2.amazonaws.com/sentinel-s2-l2a-cogs/14/S/QB/2023/8/S2B_14SQB_20230819_0_L2A/B8A.tif\n",
      "../Data/stac/dallas/S2B_14SQB_20230819_0_L2A_nir08.tif already exists. Skip downloading. Set overwrite=True to overwrite.\n",
      "https://sentinel-cogs.s3.us-west-2.amazonaws.com/sentinel-s2-l2a-cogs/14/S/QB/2023/8/S2B_14SQB_20230819_0_L2A/B09.tif\n",
      "../Data/stac/dallas/S2B_14SQB_20230819_0_L2A_nir09.tif already exists. Skip downloading. Set overwrite=True to overwrite.\n",
      "https://sentinel-cogs.s3.us-west-2.amazonaws.com/sentinel-s2-l2a-cogs/14/S/QB/2023/8/S2B_14SQB_20230819_0_L2A/B04.tif\n",
      "../Data/stac/dallas/S2B_14SQB_20230819_0_L2A_red.tif already exists. Skip downloading. Set overwrite=True to overwrite.\n",
      "https://sentinel-cogs.s3.us-west-2.amazonaws.com/sentinel-s2-l2a-cogs/14/S/QB/2023/8/S2B_14SQB_20230819_0_L2A/B05.tif\n",
      "../Data/stac/dallas/S2B_14SQB_20230819_0_L2A_rededge1.tif already exists. Skip downloading. Set overwrite=True to overwrite.\n",
      "https://sentinel-cogs.s3.us-west-2.amazonaws.com/sentinel-s2-l2a-cogs/14/S/QB/2023/8/S2B_14SQB_20230819_0_L2A/B06.tif\n",
      "../Data/stac/dallas/S2B_14SQB_20230819_0_L2A_rededge2.tif already exists. Skip downloading. Set overwrite=True to overwrite.\n",
      "https://sentinel-cogs.s3.us-west-2.amazonaws.com/sentinel-s2-l2a-cogs/14/S/QB/2023/8/S2B_14SQB_20230819_0_L2A/B07.tif\n",
      "../Data/stac/dallas/S2B_14SQB_20230819_0_L2A_rededge3.tif already exists. Skip downloading. Set overwrite=True to overwrite.\n",
      "https://sentinel-cogs.s3.us-west-2.amazonaws.com/sentinel-s2-l2a-cogs/14/S/QB/2023/8/S2B_14SQB_20230819_0_L2A/SCL.tif\n",
      "../Data/stac/dallas/S2B_14SQB_20230819_0_L2A_scl.tif already exists. Skip downloading. Set overwrite=True to overwrite.\n",
      "https://sentinel-cogs.s3.us-west-2.amazonaws.com/sentinel-s2-l2a-cogs/14/S/QB/2023/8/S2B_14SQB_20230819_0_L2A/B11.tif\n",
      "../Data/stac/dallas/S2B_14SQB_20230819_0_L2A_swir16.tif already exists. Skip downloading. Set overwrite=True to overwrite.\n",
      "https://sentinel-cogs.s3.us-west-2.amazonaws.com/sentinel-s2-l2a-cogs/14/S/QB/2023/8/S2B_14SQB_20230819_0_L2A/B12.tif\n",
      "../Data/stac/dallas/S2B_14SQB_20230819_0_L2A_swir22.tif already exists. Skip downloading. Set overwrite=True to overwrite.\n",
      "https://sentinel-cogs.s3.us-west-2.amazonaws.com/sentinel-s2-l2a-cogs/14/S/QB/2023/8/S2B_14SQB_20230819_0_L2A/TCI.tif\n",
      "../Data/stac/dallas/S2B_14SQB_20230819_0_L2A_visual.tif already exists. Skip downloading. Set overwrite=True to overwrite.\n",
      "https://sentinel-cogs.s3.us-west-2.amazonaws.com/sentinel-s2-l2a-cogs/14/S/QB/2023/8/S2B_14SQB_20230819_0_L2A/WVP.tif\n",
      "../Data/stac/dallas/S2B_14SQB_20230819_0_L2A_wvp.tif already exists. Skip downloading. Set overwrite=True to overwrite.\n",
      "https://sentinel-cogs.s3.us-west-2.amazonaws.com/sentinel-s2-l2a-cogs/14/S/QC/2023/8/S2B_14SQC_20230819_0_L2A/AOT.tif\n",
      "../Data/stac/dallas/S2B_14SQC_20230819_0_L2A_aot.tif already exists. Skip downloading. Set overwrite=True to overwrite.\n",
      "https://sentinel-cogs.s3.us-west-2.amazonaws.com/sentinel-s2-l2a-cogs/14/S/QC/2023/8/S2B_14SQC_20230819_0_L2A/B02.tif\n",
      "../Data/stac/dallas/S2B_14SQC_20230819_0_L2A_blue.tif already exists. Skip downloading. Set overwrite=True to overwrite.\n",
      "https://sentinel-cogs.s3.us-west-2.amazonaws.com/sentinel-s2-l2a-cogs/14/S/QC/2023/8/S2B_14SQC_20230819_0_L2A/B01.tif\n",
      "../Data/stac/dallas/S2B_14SQC_20230819_0_L2A_coastal.tif already exists. Skip downloading. Set overwrite=True to overwrite.\n",
      "https://sentinel-cogs.s3.us-west-2.amazonaws.com/sentinel-s2-l2a-cogs/14/S/QC/2023/8/S2B_14SQC_20230819_0_L2A/B03.tif\n",
      "../Data/stac/dallas/S2B_14SQC_20230819_0_L2A_green.tif already exists. Skip downloading. Set overwrite=True to overwrite.\n",
      "https://sentinel-cogs.s3.us-west-2.amazonaws.com/sentinel-s2-l2a-cogs/14/S/QC/2023/8/S2B_14SQC_20230819_0_L2A/B08.tif\n",
      "../Data/stac/dallas/S2B_14SQC_20230819_0_L2A_nir.tif already exists. Skip downloading. Set overwrite=True to overwrite.\n",
      "https://sentinel-cogs.s3.us-west-2.amazonaws.com/sentinel-s2-l2a-cogs/14/S/QC/2023/8/S2B_14SQC_20230819_0_L2A/B8A.tif\n",
      "../Data/stac/dallas/S2B_14SQC_20230819_0_L2A_nir08.tif already exists. Skip downloading. Set overwrite=True to overwrite.\n",
      "https://sentinel-cogs.s3.us-west-2.amazonaws.com/sentinel-s2-l2a-cogs/14/S/QC/2023/8/S2B_14SQC_20230819_0_L2A/B09.tif\n",
      "../Data/stac/dallas/S2B_14SQC_20230819_0_L2A_nir09.tif already exists. Skip downloading. Set overwrite=True to overwrite.\n",
      "https://sentinel-cogs.s3.us-west-2.amazonaws.com/sentinel-s2-l2a-cogs/14/S/QC/2023/8/S2B_14SQC_20230819_0_L2A/B04.tif\n",
      "../Data/stac/dallas/S2B_14SQC_20230819_0_L2A_red.tif already exists. Skip downloading. Set overwrite=True to overwrite.\n",
      "https://sentinel-cogs.s3.us-west-2.amazonaws.com/sentinel-s2-l2a-cogs/14/S/QC/2023/8/S2B_14SQC_20230819_0_L2A/B05.tif\n",
      "../Data/stac/dallas/S2B_14SQC_20230819_0_L2A_rededge1.tif already exists. Skip downloading. Set overwrite=True to overwrite.\n",
      "https://sentinel-cogs.s3.us-west-2.amazonaws.com/sentinel-s2-l2a-cogs/14/S/QC/2023/8/S2B_14SQC_20230819_0_L2A/B06.tif\n",
      "../Data/stac/dallas/S2B_14SQC_20230819_0_L2A_rededge2.tif already exists. Skip downloading. Set overwrite=True to overwrite.\n",
      "https://sentinel-cogs.s3.us-west-2.amazonaws.com/sentinel-s2-l2a-cogs/14/S/QC/2023/8/S2B_14SQC_20230819_0_L2A/B07.tif\n",
      "../Data/stac/dallas/S2B_14SQC_20230819_0_L2A_rededge3.tif already exists. Skip downloading. Set overwrite=True to overwrite.\n",
      "https://sentinel-cogs.s3.us-west-2.amazonaws.com/sentinel-s2-l2a-cogs/14/S/QC/2023/8/S2B_14SQC_20230819_0_L2A/SCL.tif\n",
      "../Data/stac/dallas/S2B_14SQC_20230819_0_L2A_scl.tif already exists. Skip downloading. Set overwrite=True to overwrite.\n",
      "https://sentinel-cogs.s3.us-west-2.amazonaws.com/sentinel-s2-l2a-cogs/14/S/QC/2023/8/S2B_14SQC_20230819_0_L2A/B11.tif\n",
      "../Data/stac/dallas/S2B_14SQC_20230819_0_L2A_swir16.tif already exists. Skip downloading. Set overwrite=True to overwrite.\n",
      "https://sentinel-cogs.s3.us-west-2.amazonaws.com/sentinel-s2-l2a-cogs/14/S/QC/2023/8/S2B_14SQC_20230819_0_L2A/B12.tif\n",
      "../Data/stac/dallas/S2B_14SQC_20230819_0_L2A_swir22.tif already exists. Skip downloading. Set overwrite=True to overwrite.\n",
      "https://sentinel-cogs.s3.us-west-2.amazonaws.com/sentinel-s2-l2a-cogs/14/S/QC/2023/8/S2B_14SQC_20230819_0_L2A/TCI.tif\n",
      "../Data/stac/dallas/S2B_14SQC_20230819_0_L2A_visual.tif already exists. Skip downloading. Set overwrite=True to overwrite.\n",
      "https://sentinel-cogs.s3.us-west-2.amazonaws.com/sentinel-s2-l2a-cogs/14/S/QC/2023/8/S2B_14SQC_20230819_0_L2A/WVP.tif\n",
      "../Data/stac/dallas/S2B_14SQC_20230819_0_L2A_wvp.tif already exists. Skip downloading. Set overwrite=True to overwrite.\n",
      "https://sentinel-cogs.s3.us-west-2.amazonaws.com/sentinel-s2-l2a-cogs/14/S/PC/2023/8/S2A_14SPC_20230817_0_L2A/AOT.tif\n",
      "../Data/stac/dallas/S2A_14SPC_20230817_0_L2A_aot.tif already exists. Skip downloading. Set overwrite=True to overwrite.\n",
      "https://sentinel-cogs.s3.us-west-2.amazonaws.com/sentinel-s2-l2a-cogs/14/S/PC/2023/8/S2A_14SPC_20230817_0_L2A/B02.tif\n",
      "../Data/stac/dallas/S2A_14SPC_20230817_0_L2A_blue.tif already exists. Skip downloading. Set overwrite=True to overwrite.\n",
      "https://sentinel-cogs.s3.us-west-2.amazonaws.com/sentinel-s2-l2a-cogs/14/S/PC/2023/8/S2A_14SPC_20230817_0_L2A/B01.tif\n",
      "../Data/stac/dallas/S2A_14SPC_20230817_0_L2A_coastal.tif already exists. Skip downloading. Set overwrite=True to overwrite.\n",
      "https://sentinel-cogs.s3.us-west-2.amazonaws.com/sentinel-s2-l2a-cogs/14/S/PC/2023/8/S2A_14SPC_20230817_0_L2A/B03.tif\n",
      "../Data/stac/dallas/S2A_14SPC_20230817_0_L2A_green.tif already exists. Skip downloading. Set overwrite=True to overwrite.\n",
      "https://sentinel-cogs.s3.us-west-2.amazonaws.com/sentinel-s2-l2a-cogs/14/S/PC/2023/8/S2A_14SPC_20230817_0_L2A/B08.tif\n",
      "../Data/stac/dallas/S2A_14SPC_20230817_0_L2A_nir.tif already exists. Skip downloading. Set overwrite=True to overwrite.\n",
      "https://sentinel-cogs.s3.us-west-2.amazonaws.com/sentinel-s2-l2a-cogs/14/S/PC/2023/8/S2A_14SPC_20230817_0_L2A/B8A.tif\n",
      "../Data/stac/dallas/S2A_14SPC_20230817_0_L2A_nir08.tif already exists. Skip downloading. Set overwrite=True to overwrite.\n",
      "https://sentinel-cogs.s3.us-west-2.amazonaws.com/sentinel-s2-l2a-cogs/14/S/PC/2023/8/S2A_14SPC_20230817_0_L2A/B09.tif\n",
      "../Data/stac/dallas/S2A_14SPC_20230817_0_L2A_nir09.tif already exists. Skip downloading. Set overwrite=True to overwrite.\n",
      "https://sentinel-cogs.s3.us-west-2.amazonaws.com/sentinel-s2-l2a-cogs/14/S/PC/2023/8/S2A_14SPC_20230817_0_L2A/B04.tif\n",
      "../Data/stac/dallas/S2A_14SPC_20230817_0_L2A_red.tif already exists. Skip downloading. Set overwrite=True to overwrite.\n",
      "https://sentinel-cogs.s3.us-west-2.amazonaws.com/sentinel-s2-l2a-cogs/14/S/PC/2023/8/S2A_14SPC_20230817_0_L2A/B05.tif\n",
      "../Data/stac/dallas/S2A_14SPC_20230817_0_L2A_rededge1.tif already exists. Skip downloading. Set overwrite=True to overwrite.\n",
      "https://sentinel-cogs.s3.us-west-2.amazonaws.com/sentinel-s2-l2a-cogs/14/S/PC/2023/8/S2A_14SPC_20230817_0_L2A/B06.tif\n",
      "../Data/stac/dallas/S2A_14SPC_20230817_0_L2A_rededge2.tif already exists. Skip downloading. Set overwrite=True to overwrite.\n",
      "https://sentinel-cogs.s3.us-west-2.amazonaws.com/sentinel-s2-l2a-cogs/14/S/PC/2023/8/S2A_14SPC_20230817_0_L2A/B07.tif\n",
      "../Data/stac/dallas/S2A_14SPC_20230817_0_L2A_rededge3.tif already exists. Skip downloading. Set overwrite=True to overwrite.\n",
      "https://sentinel-cogs.s3.us-west-2.amazonaws.com/sentinel-s2-l2a-cogs/14/S/PC/2023/8/S2A_14SPC_20230817_0_L2A/SCL.tif\n",
      "../Data/stac/dallas/S2A_14SPC_20230817_0_L2A_scl.tif already exists. Skip downloading. Set overwrite=True to overwrite.\n",
      "https://sentinel-cogs.s3.us-west-2.amazonaws.com/sentinel-s2-l2a-cogs/14/S/PC/2023/8/S2A_14SPC_20230817_0_L2A/B11.tif\n",
      "../Data/stac/dallas/S2A_14SPC_20230817_0_L2A_swir16.tif already exists. Skip downloading. Set overwrite=True to overwrite.\n",
      "https://sentinel-cogs.s3.us-west-2.amazonaws.com/sentinel-s2-l2a-cogs/14/S/PC/2023/8/S2A_14SPC_20230817_0_L2A/B12.tif\n",
      "../Data/stac/dallas/S2A_14SPC_20230817_0_L2A_swir22.tif already exists. Skip downloading. Set overwrite=True to overwrite.\n",
      "https://sentinel-cogs.s3.us-west-2.amazonaws.com/sentinel-s2-l2a-cogs/14/S/PC/2023/8/S2A_14SPC_20230817_0_L2A/TCI.tif\n",
      "../Data/stac/dallas/S2A_14SPC_20230817_0_L2A_visual.tif already exists. Skip downloading. Set overwrite=True to overwrite.\n",
      "https://sentinel-cogs.s3.us-west-2.amazonaws.com/sentinel-s2-l2a-cogs/14/S/PC/2023/8/S2A_14SPC_20230817_0_L2A/WVP.tif\n",
      "../Data/stac/dallas/S2A_14SPC_20230817_0_L2A_wvp.tif already exists. Skip downloading. Set overwrite=True to overwrite.\n",
      "https://sentinel-cogs.s3.us-west-2.amazonaws.com/sentinel-s2-l2a-cogs/14/S/PB/2023/8/S2A_14SPB_20230814_0_L2A/AOT.tif\n",
      "../Data/stac/dallas/S2A_14SPB_20230814_0_L2A_aot.tif already exists. Skip downloading. Set overwrite=True to overwrite.\n",
      "https://sentinel-cogs.s3.us-west-2.amazonaws.com/sentinel-s2-l2a-cogs/14/S/PB/2023/8/S2A_14SPB_20230814_0_L2A/B02.tif\n",
      "../Data/stac/dallas/S2A_14SPB_20230814_0_L2A_blue.tif already exists. Skip downloading. Set overwrite=True to overwrite.\n",
      "https://sentinel-cogs.s3.us-west-2.amazonaws.com/sentinel-s2-l2a-cogs/14/S/PB/2023/8/S2A_14SPB_20230814_0_L2A/B01.tif\n",
      "../Data/stac/dallas/S2A_14SPB_20230814_0_L2A_coastal.tif already exists. Skip downloading. Set overwrite=True to overwrite.\n",
      "https://sentinel-cogs.s3.us-west-2.amazonaws.com/sentinel-s2-l2a-cogs/14/S/PB/2023/8/S2A_14SPB_20230814_0_L2A/B03.tif\n",
      "../Data/stac/dallas/S2A_14SPB_20230814_0_L2A_green.tif already exists. Skip downloading. Set overwrite=True to overwrite.\n",
      "https://sentinel-cogs.s3.us-west-2.amazonaws.com/sentinel-s2-l2a-cogs/14/S/PB/2023/8/S2A_14SPB_20230814_0_L2A/B08.tif\n",
      "../Data/stac/dallas/S2A_14SPB_20230814_0_L2A_nir.tif already exists. Skip downloading. Set overwrite=True to overwrite.\n",
      "https://sentinel-cogs.s3.us-west-2.amazonaws.com/sentinel-s2-l2a-cogs/14/S/PB/2023/8/S2A_14SPB_20230814_0_L2A/B8A.tif\n",
      "../Data/stac/dallas/S2A_14SPB_20230814_0_L2A_nir08.tif already exists. Skip downloading. Set overwrite=True to overwrite.\n",
      "https://sentinel-cogs.s3.us-west-2.amazonaws.com/sentinel-s2-l2a-cogs/14/S/PB/2023/8/S2A_14SPB_20230814_0_L2A/B09.tif\n",
      "../Data/stac/dallas/S2A_14SPB_20230814_0_L2A_nir09.tif already exists. Skip downloading. Set overwrite=True to overwrite.\n",
      "https://sentinel-cogs.s3.us-west-2.amazonaws.com/sentinel-s2-l2a-cogs/14/S/PB/2023/8/S2A_14SPB_20230814_0_L2A/B04.tif\n",
      "../Data/stac/dallas/S2A_14SPB_20230814_0_L2A_red.tif already exists. Skip downloading. Set overwrite=True to overwrite.\n",
      "https://sentinel-cogs.s3.us-west-2.amazonaws.com/sentinel-s2-l2a-cogs/14/S/PB/2023/8/S2A_14SPB_20230814_0_L2A/B05.tif\n",
      "../Data/stac/dallas/S2A_14SPB_20230814_0_L2A_rededge1.tif already exists. Skip downloading. Set overwrite=True to overwrite.\n",
      "https://sentinel-cogs.s3.us-west-2.amazonaws.com/sentinel-s2-l2a-cogs/14/S/PB/2023/8/S2A_14SPB_20230814_0_L2A/B06.tif\n",
      "../Data/stac/dallas/S2A_14SPB_20230814_0_L2A_rededge2.tif already exists. Skip downloading. Set overwrite=True to overwrite.\n",
      "https://sentinel-cogs.s3.us-west-2.amazonaws.com/sentinel-s2-l2a-cogs/14/S/PB/2023/8/S2A_14SPB_20230814_0_L2A/B07.tif\n",
      "../Data/stac/dallas/S2A_14SPB_20230814_0_L2A_rededge3.tif already exists. Skip downloading. Set overwrite=True to overwrite.\n",
      "https://sentinel-cogs.s3.us-west-2.amazonaws.com/sentinel-s2-l2a-cogs/14/S/PB/2023/8/S2A_14SPB_20230814_0_L2A/SCL.tif\n",
      "../Data/stac/dallas/S2A_14SPB_20230814_0_L2A_scl.tif already exists. Skip downloading. Set overwrite=True to overwrite.\n",
      "https://sentinel-cogs.s3.us-west-2.amazonaws.com/sentinel-s2-l2a-cogs/14/S/PB/2023/8/S2A_14SPB_20230814_0_L2A/B11.tif\n",
      "../Data/stac/dallas/S2A_14SPB_20230814_0_L2A_swir16.tif already exists. Skip downloading. Set overwrite=True to overwrite.\n",
      "https://sentinel-cogs.s3.us-west-2.amazonaws.com/sentinel-s2-l2a-cogs/14/S/PB/2023/8/S2A_14SPB_20230814_0_L2A/B12.tif\n",
      "../Data/stac/dallas/S2A_14SPB_20230814_0_L2A_swir22.tif already exists. Skip downloading. Set overwrite=True to overwrite.\n",
      "https://sentinel-cogs.s3.us-west-2.amazonaws.com/sentinel-s2-l2a-cogs/14/S/PB/2023/8/S2A_14SPB_20230814_0_L2A/TCI.tif\n",
      "../Data/stac/dallas/S2A_14SPB_20230814_0_L2A_visual.tif already exists. Skip downloading. Set overwrite=True to overwrite.\n",
      "https://sentinel-cogs.s3.us-west-2.amazonaws.com/sentinel-s2-l2a-cogs/14/S/PB/2023/8/S2A_14SPB_20230814_0_L2A/WVP.tif\n",
      "../Data/stac/dallas/S2A_14SPB_20230814_0_L2A_wvp.tif already exists. Skip downloading. Set overwrite=True to overwrite.\n"
     ]
    }
   ],
   "source": [
    "download_stac_layers(\n",
    "    search_gdf2_list,\n",
    "    \"../Data/stac/dallas\",\n",
    ")"
   ]
  },
  {
   "cell_type": "code",
   "execution_count": 21,
   "metadata": {},
   "outputs": [],
   "source": [
    "# mosaic files based on band name\n",
    "\n",
    "\n",
    "def mosaic_by_band(\n",
    "    dir,\n",
    "    bands: list = [\n",
    "        \"red\",\n",
    "        \"blue\",\n",
    "        \"green\",\n",
    "        \"nir\",\n",
    "        \"coastal\",\n",
    "        \"nir08\",\n",
    "        \"nir09\",\n",
    "        \"rededge1\",\n",
    "        \"rededge2\",\n",
    "        \"rededge3\",\n",
    "        \"scl\",\n",
    "        \"swir16\",\n",
    "        \"swir22\",\n",
    "    ],\n",
    "    crs: str = None,\n",
    "):\n",
    "    mosaics = {}\n",
    "    for band in bands:\n",
    "        files = glob.glob(f\"{dir}/*{band}.tif\")\n",
    "\n",
    "        out_file = f\"{dir}/mosaic_{band}_.tif\"\n",
    "        raster_data = [rio.open(f) for f in files]\n",
    "\n",
    "        mosaic, out_trans = merge(raster_data)\n",
    "        out_meta = raster_data[0].meta.copy()\n",
    "        out_meta.update(\n",
    "            {\n",
    "                \"driver\": \"GTiff\",\n",
    "                \"height\": mosaic.shape[1],\n",
    "                \"width\": mosaic.shape[2],\n",
    "                \"transform\": out_trans,\n",
    "                \"crs\": f\"epsg:{crs}\",\n",
    "            }\n",
    "        )\n",
    "\n",
    "        with rio.open(out_file, \"w\", **out_meta) as dest:\n",
    "            dest.write(mosaic)\n",
    "\n",
    "        mosaics[band] = out_file\n",
    "\n",
    "    return mosaics"
   ]
  },
  {
   "cell_type": "code",
   "execution_count": 22,
   "metadata": {},
   "outputs": [],
   "source": [
    "mosaic_bands_all = mosaic_by_band(\"../Data/stac/dallas\", crs=stac_crs)"
   ]
  },
  {
   "cell_type": "code",
   "execution_count": 23,
   "metadata": {},
   "outputs": [
    {
     "data": {
      "text/plain": [
       "{'red': '../Data/stac/dallas/mosaic_red_.tif',\n",
       " 'blue': '../Data/stac/dallas/mosaic_blue_.tif',\n",
       " 'green': '../Data/stac/dallas/mosaic_green_.tif',\n",
       " 'nir': '../Data/stac/dallas/mosaic_nir_.tif',\n",
       " 'coastal': '../Data/stac/dallas/mosaic_coastal_.tif',\n",
       " 'nir08': '../Data/stac/dallas/mosaic_nir08_.tif',\n",
       " 'nir09': '../Data/stac/dallas/mosaic_nir09_.tif',\n",
       " 'rededge1': '../Data/stac/dallas/mosaic_rededge1_.tif',\n",
       " 'rededge2': '../Data/stac/dallas/mosaic_rededge2_.tif',\n",
       " 'rededge3': '../Data/stac/dallas/mosaic_rededge3_.tif',\n",
       " 'scl': '../Data/stac/dallas/mosaic_scl_.tif',\n",
       " 'swir16': '../Data/stac/dallas/mosaic_swir16_.tif',\n",
       " 'swir22': '../Data/stac/dallas/mosaic_swir22_.tif'}"
      ]
     },
     "execution_count": 23,
     "metadata": {},
     "output_type": "execute_result"
    }
   ],
   "source": [
    "mosaic_bands_all"
   ]
  },
  {
   "cell_type": "code",
   "execution_count": 24,
   "metadata": {},
   "outputs": [],
   "source": [
    "nir = rio.open(mosaic_bands_all[\"nir\"]).read(1).astype(\"float32\")\n",
    "red = rio.open(mosaic_bands_all[\"red\"]).read(1).astype(\"float32\")"
   ]
  },
  {
   "cell_type": "markdown",
   "metadata": {},
   "source": [
    "### calculate NDVI\n"
   ]
  },
  {
   "cell_type": "code",
   "execution_count": 25,
   "metadata": {},
   "outputs": [],
   "source": [
    "ndvi = (nir - red) / (nir + red)"
   ]
  },
  {
   "cell_type": "code",
   "execution_count": 26,
   "metadata": {},
   "outputs": [],
   "source": [
    "import numpy as np"
   ]
  },
  {
   "cell_type": "code",
   "execution_count": 27,
   "metadata": {},
   "outputs": [],
   "source": [
    "# fill nan with -2, outside of the range but not so far outside\n",
    "ndvi[np.isnan(ndvi)] = -1.1"
   ]
  },
  {
   "cell_type": "code",
   "execution_count": 28,
   "metadata": {},
   "outputs": [
    {
     "data": {
      "text/plain": [
       "array([[ 0.3397962 ,  0.3397962 ,  0.3397962 , ...,  0.7286304 ,\n",
       "         0.761658  ,  0.7696812 ],\n",
       "       [ 0.3397962 ,  0.3397962 ,  0.3397962 , ...,  0.7542728 ,\n",
       "         0.75994825,  0.7668074 ],\n",
       "       [ 0.3397962 ,  0.3397962 ,  0.3397962 , ...,  0.75710595,\n",
       "         0.7766166 ,  0.77487767],\n",
       "       ...,\n",
       "       [-1.1       , -1.1       , -1.1       , ...,  0.28621617,\n",
       "         0.2914872 ,  0.29366052],\n",
       "       [-1.1       , -1.1       , -1.1       , ...,  0.29206803,\n",
       "         0.28739426,  0.29380494],\n",
       "       [-1.1       , -1.1       , -1.1       , ...,  0.29438204,\n",
       "         0.28116545,  0.27921537]], dtype=float32)"
      ]
     },
     "execution_count": 28,
     "metadata": {},
     "output_type": "execute_result"
    }
   ],
   "source": [
    "ndvi"
   ]
  },
  {
   "cell_type": "code",
   "execution_count": 29,
   "metadata": {},
   "outputs": [],
   "source": [
    "ndvi_mult = ndvi * 10  # to be able to visualize more easily"
   ]
  },
  {
   "cell_type": "code",
   "execution_count": 30,
   "metadata": {},
   "outputs": [
    {
     "data": {
      "text/plain": [
       "array([[  3.3979619,   3.3979619,   3.3979619, ...,   7.2863045,\n",
       "          7.61658  ,   7.696812 ],\n",
       "       [  3.3979619,   3.3979619,   3.3979619, ...,   7.5427284,\n",
       "          7.5994825,   7.6680737],\n",
       "       [  3.3979619,   3.3979619,   3.3979619, ...,   7.571059 ,\n",
       "          7.7661657,   7.7487764],\n",
       "       ...,\n",
       "       [-11.       , -11.       , -11.       , ...,   2.8621616,\n",
       "          2.914872 ,   2.9366052],\n",
       "       [-11.       , -11.       , -11.       , ...,   2.9206803,\n",
       "          2.8739426,   2.9380493],\n",
       "       [-11.       , -11.       , -11.       , ...,   2.9438205,\n",
       "          2.8116546,   2.7921536]], dtype=float32)"
      ]
     },
     "execution_count": 30,
     "metadata": {},
     "output_type": "execute_result"
    }
   ],
   "source": [
    "ndvi_mult"
   ]
  },
  {
   "cell_type": "code",
   "execution_count": 31,
   "metadata": {},
   "outputs": [],
   "source": [
    "ndvi_image = leafmap.array_to_image(ndvi, source=mosaic_bands_all[\"nir\"])"
   ]
  },
  {
   "cell_type": "code",
   "execution_count": 32,
   "metadata": {},
   "outputs": [],
   "source": [
    "ndvi_multi_image = leafmap.array_to_image(ndvi_mult, source=mosaic_bands_all[\"nir\"])"
   ]
  },
  {
   "cell_type": "code",
   "execution_count": 33,
   "metadata": {},
   "outputs": [
    {
     "data": {
      "application/vnd.jupyter.widget-view+json": {
       "model_id": "c3059d52b9fb4ee4906fb7b31f99e7e7",
       "version_major": 2,
       "version_minor": 0
      },
      "text/plain": [
       "Map(center=[20, 0], controls=(ZoomControl(options=['position', 'zoom_in_text', 'zoom_in_title', 'zoom_out_text…"
      ]
     },
     "execution_count": 33,
     "metadata": {},
     "output_type": "execute_result"
    }
   ],
   "source": [
    "m = leafmap.Map()\n",
    "m.add_raster(ndvi_multi_image, layer_name=\"NDVI\", vmin=-10, vmax=10, cmap=\"PiYG\")\n",
    "m"
   ]
  },
  {
   "cell_type": "code",
   "execution_count": 34,
   "metadata": {},
   "outputs": [
    {
     "data": {
      "text/plain": [
       "(array([1.0000000e+00, 1.0000000e+00, 0.0000000e+00, 0.0000000e+00,\n",
       "        0.0000000e+00, 1.0000000e+00, 0.0000000e+00, 0.0000000e+00,\n",
       "        1.0000000e+00, 1.0000000e+00, 6.0000000e+00, 2.5000000e+01,\n",
       "        6.2000000e+01, 1.2700000e+02, 2.3600000e+02, 3.5800000e+02,\n",
       "        5.8700000e+02, 7.6000000e+02, 1.1380000e+03, 1.7440000e+03,\n",
       "        2.9540000e+03, 4.6030000e+03, 5.4570000e+03, 7.6650000e+03,\n",
       "        1.0625000e+04, 1.4300000e+04, 1.8146000e+04, 2.8240000e+04,\n",
       "        4.9556000e+04, 6.0100000e+04, 7.7404000e+04, 1.1881900e+05,\n",
       "        1.6017000e+05, 2.3571900e+05, 3.2284100e+05, 4.0790100e+05,\n",
       "        5.1007800e+05, 6.6881600e+05, 8.1284200e+05, 9.7515900e+05,\n",
       "        1.1532860e+06, 1.1931340e+06, 9.3785300e+05, 6.9555800e+05,\n",
       "        6.5273100e+05, 5.8141500e+05, 3.6854300e+05, 3.5100900e+05,\n",
       "        3.5505500e+05, 4.9889100e+05, 7.1784000e+05, 9.1965600e+05,\n",
       "        1.1920250e+06, 1.4707080e+06, 1.7570870e+06, 2.1609800e+06,\n",
       "        2.8169690e+06, 4.0041100e+06, 5.2596510e+06, 6.6014050e+06,\n",
       "        8.2200220e+06, 9.8739470e+06, 1.1345949e+07, 1.2598847e+07,\n",
       "        1.3563955e+07, 1.4311805e+07, 1.4812967e+07, 1.5075019e+07,\n",
       "        1.5119593e+07, 1.4951781e+07, 1.4609041e+07, 1.4150288e+07,\n",
       "        1.3506077e+07, 1.2800529e+07, 1.1962230e+07, 1.1126020e+07,\n",
       "        1.0307048e+07, 9.5563060e+06, 8.8638250e+06, 8.2535170e+06,\n",
       "        7.7538920e+06, 7.3373110e+06, 7.0169390e+06, 6.7693080e+06,\n",
       "        6.6349280e+06, 6.6174660e+06, 6.7673850e+06, 7.1484150e+06,\n",
       "        7.7481050e+06, 8.4296020e+06, 8.5291160e+06, 6.1953830e+06,\n",
       "        2.1342800e+06, 2.4459000e+05, 1.1570000e+04, 1.1950000e+03,\n",
       "        1.6000000e+01, 6.0000000e+00, 6.0000000e+00, 2.6400000e+02]),\n",
       " array([-0.99626166, -0.97630477, -0.95634788, -0.93639106, -0.91643417,\n",
       "        -0.89647728, -0.8765204 , -0.85656351, -0.83660668, -0.81664979,\n",
       "        -0.79669291, -0.77673602, -0.75677919, -0.73682231, -0.71686542,\n",
       "        -0.69690853, -0.67695165, -0.65699482, -0.63703793, -0.61708105,\n",
       "        -0.59712416, -0.57716727, -0.55721045, -0.53725356, -0.51729667,\n",
       "        -0.49733981, -0.47738293, -0.45742604, -0.43746918, -0.4175123 ,\n",
       "        -0.39755544, -0.37759855, -0.35764167, -0.33768481, -0.31772792,\n",
       "        -0.29777107, -0.27781418, -0.25785732, -0.23790044, -0.21794356,\n",
       "        -0.19798669, -0.17802981, -0.15807293, -0.13811606, -0.11815919,\n",
       "        -0.09820232, -0.07824544, -0.05828857, -0.03833169, -0.01837482,\n",
       "         0.00158206,  0.02153893,  0.0414958 ,  0.06145268,  0.08140955,\n",
       "         0.10136643,  0.1213233 ,  0.14128017,  0.16123705,  0.18119392,\n",
       "         0.2011508 ,  0.22110768,  0.24106455,  0.26102144,  0.28097829,\n",
       "         0.30093518,  0.32089204,  0.34084892,  0.36080578,  0.38076267,\n",
       "         0.40071955,  0.42067641,  0.4406333 ,  0.46059015,  0.48054704,\n",
       "         0.5005039 ,  0.52046078,  0.54041767,  0.56037456,  0.58033139,\n",
       "         0.60028827,  0.62024516,  0.64020205,  0.66015893,  0.68011576,\n",
       "         0.70007265,  0.72002953,  0.73998642,  0.75994331,  0.77990013,\n",
       "         0.79985702,  0.81981391,  0.83977079,  0.85972762,  0.87968451,\n",
       "         0.89964139,  0.91959828,  0.93955517,  0.959512  ,  0.97946888,\n",
       "         0.99942577]),\n",
       " <BarContainer object of 100 artists>)"
      ]
     },
     "execution_count": 34,
     "metadata": {},
     "output_type": "execute_result"
    },
    {
     "data": {
      "image/png": "[encoded data removed]",
      "text/plain": [
       "<Figure size 640x480 with 1 Axes>"
      ]
     },
     "metadata": {},
     "output_type": "display_data"
    }
   ],
   "source": [
    "# get histogram of ndvi image values\n",
    "\n",
    "import matplotlib.pyplot as plt\n",
    "\n",
    "plt.hist(ndvi[ndvi != -1.1].ravel(), bins=100, color=\"red\", alpha=0.7)"
   ]
  },
  {
   "cell_type": "code",
   "execution_count": 35,
   "metadata": {},
   "outputs": [],
   "source": [
    "def categorize_np_array(array):\n",
    "\n",
    "    cat_array = np.zeros(array.shape)\n",
    "    cat_array[array < 1] = 5\n",
    "    cat_array[array < 0.8] = 4\n",
    "    cat_array[array < 0.6] = 3\n",
    "    cat_array[array < 0.4] = 2\n",
    "    cat_array[array < 0.2] = 1\n",
    "\n",
    "    return cat_array"
   ]
  },
  {
   "cell_type": "code",
   "execution_count": 36,
   "metadata": {},
   "outputs": [],
   "source": [
    "cat_ndvi = categorize_np_array(ndvi)"
   ]
  },
  {
   "cell_type": "code",
   "execution_count": 37,
   "metadata": {},
   "outputs": [
    {
     "data": {
      "text/plain": [
       "array([[2., 2., 2., ..., 4., 4., 4.],\n",
       "       [2., 2., 2., ..., 4., 4., 4.],\n",
       "       [2., 2., 2., ..., 4., 4., 4.],\n",
       "       ...,\n",
       "       [1., 1., 1., ..., 2., 2., 2.],\n",
       "       [1., 1., 1., ..., 2., 2., 2.],\n",
       "       [1., 1., 1., ..., 2., 2., 2.]])"
      ]
     },
     "execution_count": 37,
     "metadata": {},
     "output_type": "execute_result"
    }
   ],
   "source": [
    "cat_ndvi"
   ]
  },
  {
   "cell_type": "code",
   "execution_count": 38,
   "metadata": {},
   "outputs": [],
   "source": [
    "ndvi_image_cat = leafmap.array_to_image(cat_ndvi, source=mosaic_bands_all[\"nir\"])"
   ]
  },
  {
   "cell_type": "code",
   "execution_count": 39,
   "metadata": {},
   "outputs": [
    {
     "data": {
      "application/vnd.jupyter.widget-view+json": {
       "model_id": "451bd8265b8e4641b0ac90fe7a115d21",
       "version_major": 2,
       "version_minor": 0
      },
      "text/plain": [
       "Map(center=[20, 0], controls=(ZoomControl(options=['position', 'zoom_in_text', 'zoom_in_title', 'zoom_out_text…"
      ]
     },
     "execution_count": 39,
     "metadata": {},
     "output_type": "execute_result"
    }
   ],
   "source": [
    "m = leafmap.Map()\n",
    "m.add_raster(\n",
    "    ndvi_image_cat, layer_name=\"NDVI\", vmin=1, vmax=5, cmap=\"Set1\", draw_control=False\n",
    ")\n",
    "m.add_colormap(\n",
    "    \"Set1\",\n",
    "    label=\"ndvi\",\n",
    "    width=8.0,\n",
    "    height=0.4,\n",
    "    orientation=\"horizontal\",\n",
    "    vmin=1,\n",
    "    vmax=5,\n",
    ")\n",
    "\n",
    "m"
   ]
  },
  {
   "cell_type": "markdown",
   "metadata": {},
   "source": [
    "## k-means\n"
   ]
  },
  {
   "cell_type": "code",
   "execution_count": 40,
   "metadata": {},
   "outputs": [],
   "source": [
    "def resample_raster(in_file, out_file, upscale_factor=0.5):\n",
    "    with rio.open(in_file) as dataset:\n",
    "\n",
    "        # resample data to target shape\n",
    "        data = dataset.read(\n",
    "            out_shape=(\n",
    "                dataset.count,\n",
    "                int(dataset.height * upscale_factor),\n",
    "                int(dataset.width * upscale_factor),\n",
    "            ),\n",
    "            resampling=rio.enums.Resampling.bilinear,\n",
    "        )\n",
    "\n",
    "        # scale image transform\n",
    "        transform = dataset.transform * dataset.transform.scale(\n",
    "            (dataset.width / data.shape[-1]), (dataset.height / data.shape[-2])\n",
    "        )\n",
    "\n",
    "        # update metadata\n",
    "        meta = dataset.meta.copy()\n",
    "        meta.update(\n",
    "            {\n",
    "                \"height\": data.shape[1],\n",
    "                \"width\": data.shape[2],\n",
    "                \"transform\": transform,\n",
    "            }\n",
    "        )\n",
    "\n",
    "        with rio.open(out_file, \"w\", **meta) as dst:\n",
    "            dst.write(data)"
   ]
  },
  {
   "cell_type": "code",
   "execution_count": 41,
   "metadata": {},
   "outputs": [
    {
     "name": "stdout",
     "output_type": "stream",
     "text": [
      "red (20982, 20976)\n",
      "blue (20982, 20976)\n",
      "green (20982, 20976)\n",
      "nir (20982, 20976)\n",
      "coastal (3497, 3496)\n",
      "nir08 (10491, 10488)\n",
      "nir09 (3497, 3496)\n",
      "rededge1 (10491, 10488)\n",
      "rededge2 (10491, 10488)\n",
      "rededge3 (10491, 10488)\n",
      "scl (10491, 10488)\n",
      "swir16 (10491, 10488)\n",
      "swir22 (10491, 10488)\n"
     ]
    }
   ],
   "source": [
    "for band in mosaic_bands_all.keys():\n",
    "    print(band, rio.open(mosaic_bands_all[band]).read(1).shape)"
   ]
  },
  {
   "cell_type": "code",
   "execution_count": 42,
   "metadata": {},
   "outputs": [],
   "source": [
    "# set resampling ratio for each band- note that some are higher resolution than others and need a different scaling factor\n",
    "bands_to_resample = {\n",
    "    \"red\": 0.25,\n",
    "    \"blue\": 0.25,\n",
    "    \"green\": 0.25,\n",
    "    \"nir\": 0.25,\n",
    "    \"nir08\": 0.5,\n",
    "    \"rededge1\": 0.5,\n",
    "    \"rededge2\": 0.5,\n",
    "    \"rededge3\": 0.5,\n",
    "    \"scl\": 0.5,\n",
    "    \"swir16\": 0.5,\n",
    "    \"swir22\": 0.5,\n",
    "}"
   ]
  },
  {
   "cell_type": "code",
   "execution_count": 43,
   "metadata": {},
   "outputs": [],
   "source": [
    "# resample the bands so they are all smaller and uniform\n",
    "for band, ratio in bands_to_resample.items():\n",
    "    resample_raster(\n",
    "        mosaic_bands_all[band], f\"../Data/stac/dallas/upscaled_{band}.tif\", ratio\n",
    "    )\n",
    "    mosaic_bands_all[f\"{band}\"] = f\"../Data/stac/dallas/upscaled_{band}.tif\""
   ]
  },
  {
   "cell_type": "code",
   "execution_count": 44,
   "metadata": {},
   "outputs": [
    {
     "data": {
      "text/plain": [
       "{'red': '../Data/stac/dallas/upscaled_red.tif',\n",
       " 'blue': '../Data/stac/dallas/upscaled_blue.tif',\n",
       " 'green': '../Data/stac/dallas/upscaled_green.tif',\n",
       " 'nir': '../Data/stac/dallas/upscaled_nir.tif',\n",
       " 'coastal': '../Data/stac/dallas/mosaic_coastal_.tif',\n",
       " 'nir08': '../Data/stac/dallas/upscaled_nir08.tif',\n",
       " 'nir09': '../Data/stac/dallas/mosaic_nir09_.tif',\n",
       " 'rededge1': '../Data/stac/dallas/upscaled_rededge1.tif',\n",
       " 'rededge2': '../Data/stac/dallas/upscaled_rededge2.tif',\n",
       " 'rededge3': '../Data/stac/dallas/upscaled_rededge3.tif',\n",
       " 'scl': '../Data/stac/dallas/upscaled_scl.tif',\n",
       " 'swir16': '../Data/stac/dallas/upscaled_swir16.tif',\n",
       " 'swir22': '../Data/stac/dallas/upscaled_swir22.tif'}"
      ]
     },
     "execution_count": 44,
     "metadata": {},
     "output_type": "execute_result"
    }
   ],
   "source": [
    "mosaic_bands_all"
   ]
  },
  {
   "cell_type": "code",
   "execution_count": 45,
   "metadata": {},
   "outputs": [],
   "source": [
    "# create a new dict with all bands excpct coastal\n",
    "mosaic_bands_all_no_coastal = {\n",
    "    k: v for k, v in mosaic_bands_all.items() if k not in [\"coastal\", \"nir09\"]\n",
    "}"
   ]
  },
  {
   "cell_type": "code",
   "execution_count": 46,
   "metadata": {},
   "outputs": [
    {
     "name": "stdout",
     "output_type": "stream",
     "text": [
      "red (5245, 5244)\n",
      "blue (5245, 5244)\n",
      "green (5245, 5244)\n",
      "nir (5245, 5244)\n",
      "nir08 (5245, 5244)\n",
      "rededge1 (5245, 5244)\n",
      "rededge2 (5245, 5244)\n",
      "rededge3 (5245, 5244)\n",
      "scl (5245, 5244)\n",
      "swir16 (5245, 5244)\n",
      "swir22 (5245, 5244)\n"
     ]
    }
   ],
   "source": [
    "for band in mosaic_bands_all_no_coastal.keys():\n",
    "    print(band, rio.open(mosaic_bands_all_no_coastal[band]).read(1).shape)\n",
    "\n",
    "mosaic_bands_all_no_coastal = np.stack(\n",
    "    [\n",
    "        rio.open(mosaic_bands_all_no_coastal[band]).read(1)\n",
    "        for band in mosaic_bands_all_no_coastal.keys()\n",
    "    ],\n",
    "    axis=-1,\n",
    ")"
   ]
  },
  {
   "cell_type": "code",
   "execution_count": 47,
   "metadata": {},
   "outputs": [],
   "source": [
    "reshaped_img = reshape_as_image(mosaic_bands_all_no_coastal)"
   ]
  },
  {
   "cell_type": "code",
   "execution_count": 48,
   "metadata": {},
   "outputs": [
    {
     "data": {
      "text/plain": [
       "(5244, 11, 5245)"
      ]
     },
     "execution_count": 48,
     "metadata": {},
     "output_type": "execute_result"
    }
   ],
   "source": [
    "reshaped_img.shape"
   ]
  },
  {
   "cell_type": "code",
   "execution_count": 49,
   "metadata": {},
   "outputs": [
    {
     "data": {
      "text/plain": [
       "(5245, 5244, 11)"
      ]
     },
     "execution_count": 49,
     "metadata": {},
     "output_type": "execute_result"
    }
   ],
   "source": [
    "mosaic_bands_all_no_coastal.shape"
   ]
  },
  {
   "cell_type": "code",
   "execution_count": 50,
   "metadata": {},
   "outputs": [],
   "source": [
    "from sklearn.cluster import KMeans\n",
    "\n",
    "rows, cols, bands = mosaic_bands_all_no_coastal.shape\n",
    "\n",
    "k = 10  # num of clusters\n",
    "\n",
    "kmeans_predictions = KMeans(n_clusters=k, random_state=0).fit(\n",
    "    mosaic_bands_all_no_coastal.reshape(rows * cols, bands)\n",
    ")\n",
    "\n",
    "kmeans_predictions_2d = kmeans_predictions.labels_.reshape(rows, cols)"
   ]
  },
  {
   "cell_type": "code",
   "execution_count": 51,
   "metadata": {},
   "outputs": [
    {
     "data": {
      "application/vnd.jupyter.widget-view+json": {
       "model_id": "b8e17ba221c04948a2622f5c8cc73a8a",
       "version_major": 2,
       "version_minor": 0
      },
      "text/plain": [
       "Map(center=[20, 0], controls=(ZoomControl(options=['position', 'zoom_in_text', 'zoom_in_title', 'zoom_out_text…"
      ]
     },
     "execution_count": 51,
     "metadata": {},
     "output_type": "execute_result"
    }
   ],
   "source": [
    "# plot prediction results\n",
    "\n",
    "m = leafmap.Map()\n",
    "m.add_raster(\n",
    "    leafmap.array_to_image(kmeans_predictions_2d, source=mosaic_bands_all[\"red\"]),\n",
    "    layer_name=\"KMeans\",\n",
    "    colormap=\"Set1\",\n",
    "    draw_control=False,\n",
    ")\n",
    "\n",
    "# add a legend\n",
    "m.add_colormap(\n",
    "    \"Set1\",\n",
    "    label=\"KMeans\",\n",
    "    width=8.0,\n",
    "    height=0.4,\n",
    "    orientation=\"horizontal\",\n",
    "    vmin=0,\n",
    "    vmax=9,\n",
    ")\n",
    "\n",
    "m"
   ]
  }
 ],
 "metadata": {
  "kernelspec": {
   "display_name": "cdp",
   "language": "python",
   "name": "python3"
  },
  "language_info": {
   "codemirror_mode": {
    "name": "ipython",
    "version": 3
   },
   "file_extension": ".py",
   "mimetype": "text/x-python",
   "name": "python",
   "nbconvert_exporter": "python",
   "pygments_lexer": "ipython3",
   "version": "3.11.9"
  }
 },
 "nbformat": 4,
 "nbformat_minor": 2
}
