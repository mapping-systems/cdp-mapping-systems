{
 "cells": [
  {
   "cell_type": "markdown",
   "metadata": {},
   "source": [
    "# Calculating change over time\n"
   ]
  },
  {
   "cell_type": "markdown",
   "metadata": {},
   "source": [
    "## imports\n"
   ]
  },
  {
   "cell_type": "code",
   "execution_count": null,
   "metadata": {},
   "outputs": [],
   "source": [
    "import leafmap\n",
    "import leafmap.colormaps as cm\n",
    "import requests\n",
    "import rasterio as rio\n",
    "from rasterio.merge import merge\n",
    "import glob\n",
    "from rasterio.plot import reshape_as_image"
   ]
  },
  {
   "cell_type": "markdown",
   "metadata": {},
   "source": [
    "## searching for data\n"
   ]
  },
  {
   "cell_type": "code",
   "execution_count": null,
   "metadata": {},
   "outputs": [],
   "source": [
    "url = \"https://earth-search.aws.element84.com/v1/\"\n",
    "collection = \"sentinel-2-l2a\"\n",
    "time_range = \"2023-08-01/2023-08-31\""
   ]
  },
  {
   "cell_type": "code",
   "execution_count": null,
   "metadata": {},
   "outputs": [],
   "source": [
    "# bbox for dallas metro\n",
    "bbox = [\n",
    "    -97.06213756027009,\n",
    "    32.97324551867027,\n",
    "    -96.46807822577594,\n",
    "    33.3578329610085,\n",
    "]"
   ]
  },
  {
   "cell_type": "code",
   "execution_count": null,
   "metadata": {},
   "outputs": [],
   "source": [
    "search_gdf = leafmap.stac_search(\n",
    "    url=url,\n",
    "    max_items=10,\n",
    "    collections=[collection],\n",
    "    bbox=bbox,\n",
    "    datetime=time_range,\n",
    "    query={\"eo:cloud_cover\": {\"lt\": 20}},\n",
    "    sortby=[{\"field\": \"properties.eo:cloud_cover\", \"direction\": \"asc\"}],\n",
    "    get_gdf=True,\n",
    ")"
   ]
  },
  {
   "cell_type": "code",
   "execution_count": null,
   "metadata": {},
   "outputs": [],
   "source": [
    "search_gdf.columns"
   ]
  },
  {
   "cell_type": "code",
   "execution_count": null,
   "metadata": {},
   "outputs": [],
   "source": [
    "search_gdf"
   ]
  },
  {
   "cell_type": "markdown",
   "metadata": {},
   "source": [
    "## exploring and filtering search results\n"
   ]
  },
  {
   "cell_type": "code",
   "execution_count": null,
   "metadata": {},
   "outputs": [],
   "source": [
    "search_gdf.plot(\"mgrs:grid_square\", alpha=0.25)"
   ]
  },
  {
   "cell_type": "code",
   "execution_count": null,
   "metadata": {},
   "outputs": [],
   "source": [
    "search_gdf[\"s2:granule_id\"].value_counts()"
   ]
  },
  {
   "cell_type": "code",
   "execution_count": null,
   "metadata": {},
   "outputs": [],
   "source": [
    "search_gdf[\"area\"] = search_gdf.geometry.area"
   ]
  },
  {
   "cell_type": "code",
   "execution_count": null,
   "metadata": {},
   "outputs": [],
   "source": [
    "search_gdf.sort_values(\"area\", ascending=False, inplace=True)"
   ]
  },
  {
   "cell_type": "code",
   "execution_count": null,
   "metadata": {},
   "outputs": [],
   "source": [
    "search_gdf[[\"area\"]]"
   ]
  },
  {
   "cell_type": "code",
   "execution_count": null,
   "metadata": {},
   "outputs": [],
   "source": [
    "search_gdf.drop_duplicates(\"mgrs:grid_square\", inplace=True)"
   ]
  },
  {
   "cell_type": "code",
   "execution_count": null,
   "metadata": {},
   "outputs": [],
   "source": [
    "search_gdf.iloc[0:4].plot(\"s2:granule_id\", alpha=0.5)"
   ]
  },
  {
   "cell_type": "code",
   "execution_count": null,
   "metadata": {},
   "outputs": [],
   "source": [
    "# # create a query searching for unique datastrip ids based on the above\n",
    "q = {\"s2:granule_id\": {\"in\": search_gdf[\"s2:granule_id\"].iloc[0:4].unique().tolist()}}\n",
    "\n",
    "search_gdf2 = leafmap.stac_search(\n",
    "    url=url,\n",
    "    max_items=4,\n",
    "    collections=[collection],\n",
    "    bbox=bbox,\n",
    "    datetime=time_range,\n",
    "    query=q,\n",
    "    get_gdf=True,\n",
    ")"
   ]
  },
  {
   "cell_type": "code",
   "execution_count": null,
   "metadata": {},
   "outputs": [],
   "source": [
    "search_gdf2"
   ]
  },
  {
   "cell_type": "code",
   "execution_count": null,
   "metadata": {},
   "outputs": [],
   "source": [
    "search_gdf2.plot(\"mgrs:grid_square\", alpha=0.5)"
   ]
  },
  {
   "cell_type": "markdown",
   "metadata": {},
   "source": [
    "### plot to accentuate paved and non-paved divide\n"
   ]
  },
  {
   "cell_type": "code",
   "execution_count": null,
   "metadata": {},
   "outputs": [],
   "source": [
    "search_gdf2_list = leafmap.stac_search(\n",
    "    url=url,\n",
    "    max_items=4,\n",
    "    collections=[collection],\n",
    "    bbox=bbox,\n",
    "    datetime=time_range,\n",
    "    query=q,\n",
    "    get_links=True,\n",
    ")"
   ]
  },
  {
   "cell_type": "code",
   "execution_count": null,
   "metadata": {},
   "outputs": [],
   "source": [
    "m = leafmap.Map()\n",
    "\n",
    "for layer in search_gdf2_list:\n",
    "    m.add_stac_layer(layer, bands=[\"nir\", \"red\", \"green\"], name=layer.split(\"/\")[-1])\n",
    "m"
   ]
  },
  {
   "cell_type": "markdown",
   "metadata": {},
   "source": [
    "### download files for analysis\n"
   ]
  },
  {
   "cell_type": "code",
   "execution_count": null,
   "metadata": {},
   "outputs": [],
   "source": [
    "def get_raster_band_urls(item: str, bands: list | None = None):\n",
    "    available_bands = leafmap.stac_bands(item)\n",
    "    stac = requests.get(item).json()\n",
    "    band_urls = {\n",
    "        x: stac[\"assets\"][x][\"href\"]\n",
    "        for x in available_bands\n",
    "        if stac[\"assets\"][x][\"href\"].startswith(\"http\")\n",
    "    }\n",
    "\n",
    "    # if bands, only return bands in list\n",
    "    if bands:\n",
    "        band_urls = {x: band_urls[x] for x in bands if x in band_urls}\n",
    "\n",
    "    return band_urls\n",
    "\n",
    "\n",
    "def download_stac_layers(layers, out_dir, bands=None):\n",
    "    for layer in layers:\n",
    "        band_urls = get_raster_band_urls(layer, bands)\n",
    "        for band, url in band_urls.items():\n",
    "            print(url)\n",
    "            out_file = f\"{out_dir}/{layer.split('/')[-1]}_{band}.tif\"\n",
    "            leafmap.download_file(url, out_file, overwrite=False)\n",
    "\n",
    "\n",
    "def get_stac_crs(item):\n",
    "    stac = requests.get(item).json()\n",
    "    return stac[\"properties\"][\"proj:epsg\"]"
   ]
  },
  {
   "cell_type": "code",
   "execution_count": null,
   "metadata": {},
   "outputs": [],
   "source": [
    "stac_crs = get_stac_crs(search_gdf2_list[0])"
   ]
  },
  {
   "cell_type": "code",
   "execution_count": null,
   "metadata": {},
   "outputs": [],
   "source": [
    "download_stac_layers(\n",
    "    search_gdf2_list,\n",
    "    \"../Data/stac/dallas\",\n",
    ")"
   ]
  },
  {
   "cell_type": "code",
   "execution_count": null,
   "metadata": {},
   "outputs": [],
   "source": [
    "# mosaic files based on band name\n",
    "\n",
    "\n",
    "def mosaic_by_band(\n",
    "    dir,\n",
    "    bands: list = [\n",
    "        \"red\",\n",
    "        \"blue\",\n",
    "        \"green\",\n",
    "        \"nir\",\n",
    "        \"coastal\",\n",
    "        \"nir08\",\n",
    "        \"nir09\",\n",
    "        \"rededge1\",\n",
    "        \"rededge2\",\n",
    "        \"rededge3\",\n",
    "        \"scl\",\n",
    "        \"swir16\",\n",
    "        \"swir22\",\n",
    "    ],\n",
    "    crs: str = None,\n",
    "):\n",
    "    mosaics = {}\n",
    "    for band in bands:\n",
    "        files = glob.glob(f\"{dir}/*{band}.tif\")\n",
    "\n",
    "        out_file = f\"{dir}/mosaic_{band}_.tif\"\n",
    "        raster_data = [rio.open(f) for f in files]\n",
    "\n",
    "        mosaic, out_trans = merge(raster_data)\n",
    "        out_meta = raster_data[0].meta.copy()\n",
    "        out_meta.update(\n",
    "            {\n",
    "                \"driver\": \"GTiff\",\n",
    "                \"height\": mosaic.shape[1],\n",
    "                \"width\": mosaic.shape[2],\n",
    "                \"transform\": out_trans,\n",
    "                \"crs\": f\"epsg:{crs}\",\n",
    "            }\n",
    "        )\n",
    "\n",
    "        with rio.open(out_file, \"w\", **out_meta) as dest:\n",
    "            dest.write(mosaic)\n",
    "\n",
    "        mosaics[band] = out_file\n",
    "\n",
    "    return mosaics"
   ]
  },
  {
   "cell_type": "code",
   "execution_count": null,
   "metadata": {},
   "outputs": [],
   "source": [
    "mosaic_bands_all = mosaic_by_band(\"../Data/stac/dallas\", crs=stac_crs)"
   ]
  },
  {
   "cell_type": "code",
   "execution_count": null,
   "metadata": {},
   "outputs": [],
   "source": [
    "mosaic_bands_all"
   ]
  },
  {
   "cell_type": "code",
   "execution_count": null,
   "metadata": {},
   "outputs": [],
   "source": [
    "nir = rio.open(mosaic_bands_all[\"nir\"]).read(1).astype(\"float32\")\n",
    "red = rio.open(mosaic_bands_all[\"red\"]).read(1).astype(\"float32\")"
   ]
  },
  {
   "cell_type": "markdown",
   "metadata": {},
   "source": [
    "### calculate NDVI\n"
   ]
  },
  {
   "cell_type": "code",
   "execution_count": null,
   "metadata": {},
   "outputs": [],
   "source": [
    "ndvi = (nir - red) / (nir + red)"
   ]
  },
  {
   "cell_type": "code",
   "execution_count": null,
   "metadata": {},
   "outputs": [],
   "source": [
    "import numpy as np"
   ]
  },
  {
   "cell_type": "code",
   "execution_count": null,
   "metadata": {},
   "outputs": [],
   "source": [
    "# fill nan with -2, outside of the range but not so far outside\n",
    "ndvi[np.isnan(ndvi)] = -1.1"
   ]
  },
  {
   "cell_type": "code",
   "execution_count": null,
   "metadata": {},
   "outputs": [],
   "source": [
    "ndvi"
   ]
  },
  {
   "cell_type": "code",
   "execution_count": null,
   "metadata": {},
   "outputs": [],
   "source": [
    "ndvi_mult = ndvi * 10  # to be able to visualize more easily"
   ]
  },
  {
   "cell_type": "code",
   "execution_count": null,
   "metadata": {},
   "outputs": [],
   "source": [
    "ndvi_mult"
   ]
  },
  {
   "cell_type": "code",
   "execution_count": null,
   "metadata": {},
   "outputs": [],
   "source": [
    "ndvi_image = leafmap.array_to_image(ndvi, source=mosaic_bands_all[\"nir\"])"
   ]
  },
  {
   "cell_type": "code",
   "execution_count": null,
   "metadata": {},
   "outputs": [],
   "source": [
    "ndvi_multi_image = leafmap.array_to_image(ndvi_mult, source=mosaic_bands_all[\"nir\"])"
   ]
  },
  {
   "cell_type": "code",
   "execution_count": null,
   "metadata": {},
   "outputs": [],
   "source": [
    "m = leafmap.Map()\n",
    "m.add_raster(ndvi_multi_image, layer_name=\"NDVI\", vmin=-10, vmax=10, cmap=\"PiYG\")\n",
    "m"
   ]
  },
  {
   "cell_type": "code",
   "execution_count": null,
   "metadata": {},
   "outputs": [],
   "source": [
    "# get histogram of ndvi image values\n",
    "\n",
    "import matplotlib.pyplot as plt\n",
    "\n",
    "plt.hist(ndvi[ndvi != -1.1].ravel(), bins=100, color=\"red\", alpha=0.7)"
   ]
  },
  {
   "cell_type": "code",
   "execution_count": null,
   "metadata": {},
   "outputs": [],
   "source": [
    "def categorize_np_array(array):\n",
    "\n",
    "    cat_array = np.zeros(array.shape)\n",
    "    cat_array[array < 1] = 5\n",
    "    cat_array[array < 0.8] = 4\n",
    "    cat_array[array < 0.6] = 3\n",
    "    cat_array[array < 0.4] = 2\n",
    "    cat_array[array < 0.2] = 1\n",
    "\n",
    "    return cat_array"
   ]
  },
  {
   "cell_type": "code",
   "execution_count": null,
   "metadata": {},
   "outputs": [],
   "source": [
    "cat_ndvi = categorize_np_array(ndvi)"
   ]
  },
  {
   "cell_type": "code",
   "execution_count": null,
   "metadata": {},
   "outputs": [],
   "source": [
    "cat_ndvi"
   ]
  },
  {
   "cell_type": "code",
   "execution_count": null,
   "metadata": {},
   "outputs": [],
   "source": [
    "ndvi_image_cat = leafmap.array_to_image(cat_ndvi, source=mosaic_bands_all[\"nir\"])"
   ]
  },
  {
   "cell_type": "code",
   "execution_count": null,
   "metadata": {},
   "outputs": [],
   "source": [
    "m = leafmap.Map()\n",
    "m.add_raster(\n",
    "    ndvi_image_cat, layer_name=\"NDVI\", vmin=1, vmax=5, cmap=\"Set1\", draw_control=False\n",
    ")\n",
    "m.add_colormap(\n",
    "    \"Set1\",\n",
    "    label=\"ndvi\",\n",
    "    width=8.0,\n",
    "    height=0.4,\n",
    "    orientation=\"horizontal\",\n",
    "    vmin=1,\n",
    "    vmax=5,\n",
    ")\n",
    "\n",
    "m"
   ]
  },
  {
   "cell_type": "markdown",
   "metadata": {},
   "source": [
    "## k-means\n"
   ]
  },
  {
   "cell_type": "code",
   "execution_count": null,
   "metadata": {},
   "outputs": [],
   "source": [
    "def resample_raster(in_file, out_file, upscale_factor=0.5):\n",
    "    with rio.open(in_file) as dataset:\n",
    "\n",
    "        # resample data to target shape\n",
    "        data = dataset.read(\n",
    "            out_shape=(\n",
    "                dataset.count,\n",
    "                int(dataset.height * upscale_factor),\n",
    "                int(dataset.width * upscale_factor),\n",
    "            ),\n",
    "            resampling=rio.enums.Resampling.bilinear,\n",
    "        )\n",
    "\n",
    "        # scale image transform\n",
    "        transform = dataset.transform * dataset.transform.scale(\n",
    "            (dataset.width / data.shape[-1]), (dataset.height / data.shape[-2])\n",
    "        )\n",
    "\n",
    "        # update metadata\n",
    "        meta = dataset.meta.copy()\n",
    "        meta.update(\n",
    "            {\n",
    "                \"height\": data.shape[1],\n",
    "                \"width\": data.shape[2],\n",
    "                \"transform\": transform,\n",
    "            }\n",
    "        )\n",
    "\n",
    "        with rio.open(out_file, \"w\", **meta) as dst:\n",
    "            dst.write(data)"
   ]
  },
  {
   "cell_type": "code",
   "execution_count": null,
   "metadata": {},
   "outputs": [],
   "source": [
    "for band in mosaic_bands_all.keys():\n",
    "    print(band, rio.open(mosaic_bands_all[band]).read(1).shape)"
   ]
  },
  {
   "cell_type": "code",
   "execution_count": null,
   "metadata": {},
   "outputs": [],
   "source": [
    "# set resampling ratio for each band- note that some are higher resolution than others and need a different scaling factor\n",
    "bands_to_resample = {\n",
    "    \"red\": 0.25,\n",
    "    \"blue\": 0.25,\n",
    "    \"green\": 0.25,\n",
    "    \"nir\": 0.25,\n",
    "    \"nir08\": 0.5,\n",
    "    \"rededge1\": 0.5,\n",
    "    \"rededge2\": 0.5,\n",
    "    \"rededge3\": 0.5,\n",
    "    \"scl\": 0.5,\n",
    "    \"swir16\": 0.5,\n",
    "    \"swir22\": 0.5,\n",
    "}"
   ]
  },
  {
   "cell_type": "code",
   "execution_count": null,
   "metadata": {},
   "outputs": [],
   "source": [
    "# resample the bands so they are all smaller and uniform\n",
    "for band, ratio in bands_to_resample.items():\n",
    "    resample_raster(\n",
    "        mosaic_bands_all[band], f\"../Data/stac/dallas/upscaled_{band}.tif\", ratio\n",
    "    )\n",
    "    mosaic_bands_all[f\"{band}\"] = f\"../Data/stac/dallas/upscaled_{band}.tif\""
   ]
  },
  {
   "cell_type": "code",
   "execution_count": null,
   "metadata": {},
   "outputs": [],
   "source": [
    "mosaic_bands_all"
   ]
  },
  {
   "cell_type": "code",
   "execution_count": null,
   "metadata": {},
   "outputs": [],
   "source": [
    "# create a new dict with all bands excpct coastal\n",
    "mosaic_bands_all_no_coastal = {\n",
    "    k: v for k, v in mosaic_bands_all.items() if k not in [\"coastal\", \"nir09\"]\n",
    "}"
   ]
  },
  {
   "cell_type": "code",
   "execution_count": null,
   "metadata": {},
   "outputs": [],
   "source": [
    "mosaic_bands_all_no_coastal"
   ]
  },
  {
   "cell_type": "code",
   "execution_count": null,
   "metadata": {},
   "outputs": [],
   "source": [
    "for band in mosaic_bands_all_no_coastal.keys():\n",
    "    print(band, rio.open(mosaic_bands_all_no_coastal[band]).read(1).shape)\n",
    "\n",
    "mosaic_bands_all_no_coastal = np.stack(\n",
    "    [\n",
    "        rio.open(mosaic_bands_all_no_coastal[band]).read(1)\n",
    "        for band in mosaic_bands_all_no_coastal.keys()\n",
    "    ],\n",
    "    axis=-1,\n",
    ")"
   ]
  },
  {
   "cell_type": "code",
   "execution_count": null,
   "metadata": {},
   "outputs": [],
   "source": [
    "reshaped_img = reshape_as_image(mosaic_bands_all_no_coastal)"
   ]
  },
  {
   "cell_type": "code",
   "execution_count": null,
   "metadata": {},
   "outputs": [],
   "source": [
    "reshaped_img.shape"
   ]
  },
  {
   "cell_type": "code",
   "execution_count": null,
   "metadata": {},
   "outputs": [],
   "source": [
    "mosaic_bands_all_no_coastal.shape"
   ]
  },
  {
   "cell_type": "code",
   "execution_count": null,
   "metadata": {},
   "outputs": [],
   "source": [
    "from sklearn.cluster import KMeans\n",
    "\n",
    "rows, cols, bands = mosaic_bands_all_no_coastal.shape\n",
    "\n",
    "k = 10  # num of clusters\n",
    "\n",
    "kmeans_predictions = KMeans(n_clusters=k, random_state=0).fit(\n",
    "    mosaic_bands_all_no_coastal.reshape(rows * cols, bands)\n",
    ")\n",
    "\n",
    "kmeans_predictions_2d = kmeans_predictions.labels_.reshape(rows, cols)"
   ]
  },
  {
   "cell_type": "code",
   "execution_count": null,
   "metadata": {},
   "outputs": [],
   "source": [
    "# plot prediction results\n",
    "\n",
    "m = leafmap.Map()\n",
    "m.add_raster(\n",
    "    leafmap.array_to_image(kmeans_predictions_2d, source=mosaic_bands_all[\"red\"]),\n",
    "    layer_name=\"KMeans\",\n",
    "    colormap=\"Set1\",\n",
    "    draw_control=False,\n",
    ")\n",
    "\n",
    "# add a legend\n",
    "m.add_colormap(\n",
    "    \"Set1\",\n",
    "    label=\"KMeans\",\n",
    "    width=8.0,\n",
    "    height=0.4,\n",
    "    orientation=\"horizontal\",\n",
    "    vmin=0,\n",
    "    vmax=9,\n",
    ")\n",
    "\n",
    "m"
   ]
  },
  {
   "cell_type": "code",
   "execution_count": null,
   "metadata": {},
   "outputs": [],
   "source": []
  }
 ],
 "metadata": {
  "kernelspec": {
   "display_name": "cdp2",
   "language": "python",
   "name": "python3"
  },
  "language_info": {
   "codemirror_mode": {
    "name": "ipython",
    "version": 3
   },
   "file_extension": ".py",
   "mimetype": "text/x-python",
   "name": "python",
   "nbconvert_exporter": "python",
   "pygments_lexer": "ipython3",
   "version": "3.12.4"
  }
 },
 "nbformat": 4,
 "nbformat_minor": 2
}
